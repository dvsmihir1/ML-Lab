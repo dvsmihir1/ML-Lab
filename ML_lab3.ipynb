{
  "nbformat": 4,
  "nbformat_minor": 0,
  "metadata": {
    "colab": {
      "provenance": [],
      "authorship_tag": "ABX9TyPEmDebK5dBJ1+rSlOr9oPi",
      "include_colab_link": true
    },
    "kernelspec": {
      "name": "python3",
      "display_name": "Python 3"
    },
    "language_info": {
      "name": "python"
    }
  },
  "cells": [
    {
      "cell_type": "markdown",
      "metadata": {
        "id": "view-in-github",
        "colab_type": "text"
      },
      "source": [
        "<a href=\"https://colab.research.google.com/github/dvsmihir1/ML-Lab/blob/main/ML_lab3.ipynb\" target=\"_parent\"><img src=\"https://colab.research.google.com/assets/colab-badge.svg\" alt=\"Open In Colab\"/></a>"
      ]
    },
    {
      "cell_type": "markdown",
      "source": [
        "A1) Evaluate the intraclass spread and interclass distances between the classes in your dataset. If\n",
        "your data deals with multiple classes, you can take any two classes. Steps below (refer below\n",
        "diagram for understanding):\n",
        "\n",
        "• Calculate the mean for each class (also called as class centroid)\n",
        "(Suggestion: You may use numpy.mean() function for finding the average vector for all\n",
        "vectors in a given class. Please define the axis property appropriately to use this function. EX:\n",
        "feat_vecs.mean(axis=0))\n",
        "\n",
        "• Calculate spread (standard deviation) for each class\n",
        "(Suggestion: You may use numpy.std() function for finding the standard deviation vector\n",
        "for all vectors in a given class. Please define the axis property appropriately to use this\n",
        "function.)\n",
        "\n",
        "• Calculate the distance between mean vectors between classes\n",
        "(Suggestion: numpy.linalg.norm(centroid1 – centroid2) gives the Euclidean\n",
        "distance between two centroids.)"
      ],
      "metadata": {
        "id": "jaLAQmFvkCgH"
      }
    },
    {
      "cell_type": "code",
      "source": [
        "pip install vitaldb"
      ],
      "metadata": {
        "colab": {
          "base_uri": "https://localhost:8080/"
        },
        "id": "3IqGorNU-AsE",
        "outputId": "11d7aefe-a45f-47dd-a12a-5685b4ef370c"
      },
      "execution_count": 8,
      "outputs": [
        {
          "output_type": "stream",
          "name": "stdout",
          "text": [
            "Collecting vitaldb\n",
            "  Downloading vitaldb-1.4.9-py3-none-any.whl.metadata (520 bytes)\n",
            "Requirement already satisfied: numpy in /usr/local/lib/python3.10/dist-packages (from vitaldb) (1.26.4)\n",
            "Requirement already satisfied: pandas in /usr/local/lib/python3.10/dist-packages (from vitaldb) (2.1.4)\n",
            "Requirement already satisfied: requests in /usr/local/lib/python3.10/dist-packages (from vitaldb) (2.32.3)\n",
            "Collecting wfdb (from vitaldb)\n",
            "  Downloading wfdb-4.1.2-py3-none-any.whl.metadata (4.3 kB)\n",
            "Requirement already satisfied: python-dateutil>=2.8.2 in /usr/local/lib/python3.10/dist-packages (from pandas->vitaldb) (2.8.2)\n",
            "Requirement already satisfied: pytz>=2020.1 in /usr/local/lib/python3.10/dist-packages (from pandas->vitaldb) (2024.1)\n",
            "Requirement already satisfied: tzdata>=2022.1 in /usr/local/lib/python3.10/dist-packages (from pandas->vitaldb) (2024.1)\n",
            "Requirement already satisfied: charset-normalizer<4,>=2 in /usr/local/lib/python3.10/dist-packages (from requests->vitaldb) (3.3.2)\n",
            "Requirement already satisfied: idna<4,>=2.5 in /usr/local/lib/python3.10/dist-packages (from requests->vitaldb) (3.7)\n",
            "Requirement already satisfied: urllib3<3,>=1.21.1 in /usr/local/lib/python3.10/dist-packages (from requests->vitaldb) (2.0.7)\n",
            "Requirement already satisfied: certifi>=2017.4.17 in /usr/local/lib/python3.10/dist-packages (from requests->vitaldb) (2024.7.4)\n",
            "Requirement already satisfied: SoundFile>=0.10.0 in /usr/local/lib/python3.10/dist-packages (from wfdb->vitaldb) (0.12.1)\n",
            "Requirement already satisfied: matplotlib>=3.2.2 in /usr/local/lib/python3.10/dist-packages (from wfdb->vitaldb) (3.7.1)\n",
            "Requirement already satisfied: scipy>=1.0.0 in /usr/local/lib/python3.10/dist-packages (from wfdb->vitaldb) (1.13.1)\n",
            "Requirement already satisfied: contourpy>=1.0.1 in /usr/local/lib/python3.10/dist-packages (from matplotlib>=3.2.2->wfdb->vitaldb) (1.2.1)\n",
            "Requirement already satisfied: cycler>=0.10 in /usr/local/lib/python3.10/dist-packages (from matplotlib>=3.2.2->wfdb->vitaldb) (0.12.1)\n",
            "Requirement already satisfied: fonttools>=4.22.0 in /usr/local/lib/python3.10/dist-packages (from matplotlib>=3.2.2->wfdb->vitaldb) (4.53.1)\n",
            "Requirement already satisfied: kiwisolver>=1.0.1 in /usr/local/lib/python3.10/dist-packages (from matplotlib>=3.2.2->wfdb->vitaldb) (1.4.5)\n",
            "Requirement already satisfied: packaging>=20.0 in /usr/local/lib/python3.10/dist-packages (from matplotlib>=3.2.2->wfdb->vitaldb) (24.1)\n",
            "Requirement already satisfied: pillow>=6.2.0 in /usr/local/lib/python3.10/dist-packages (from matplotlib>=3.2.2->wfdb->vitaldb) (9.4.0)\n",
            "Requirement already satisfied: pyparsing>=2.3.1 in /usr/local/lib/python3.10/dist-packages (from matplotlib>=3.2.2->wfdb->vitaldb) (3.1.2)\n",
            "Requirement already satisfied: six>=1.5 in /usr/local/lib/python3.10/dist-packages (from python-dateutil>=2.8.2->pandas->vitaldb) (1.16.0)\n",
            "Requirement already satisfied: cffi>=1.0 in /usr/local/lib/python3.10/dist-packages (from SoundFile>=0.10.0->wfdb->vitaldb) (1.17.0)\n",
            "Requirement already satisfied: pycparser in /usr/local/lib/python3.10/dist-packages (from cffi>=1.0->SoundFile>=0.10.0->wfdb->vitaldb) (2.22)\n",
            "Downloading vitaldb-1.4.9-py3-none-any.whl (57 kB)\n",
            "\u001b[2K   \u001b[90m━━━━━━━━━━━━━━━━━━━━━━━━━━━━━━━━━━━━━━━━\u001b[0m \u001b[32m57.5/57.5 kB\u001b[0m \u001b[31m2.1 MB/s\u001b[0m eta \u001b[36m0:00:00\u001b[0m\n",
            "\u001b[?25hDownloading wfdb-4.1.2-py3-none-any.whl (159 kB)\n",
            "\u001b[2K   \u001b[90m━━━━━━━━━━━━━━━━━━━━━━━━━━━━━━━━━━━━━━━━\u001b[0m \u001b[32m160.0/160.0 kB\u001b[0m \u001b[31m3.2 MB/s\u001b[0m eta \u001b[36m0:00:00\u001b[0m\n",
            "\u001b[?25hInstalling collected packages: wfdb, vitaldb\n",
            "Successfully installed vitaldb-1.4.9 wfdb-4.1.2\n"
          ]
        }
      ]
    },
    {
      "cell_type": "code",
      "source": [
        "import pandas as pd\n",
        "import numpy as np\n",
        "dfcases = pd.read_csv(\"https://api.vitaldb.net/cases\")  # Load clinical information from VitalDB.\n",
        "num = dfcases.select_dtypes(exclude=[\"object\"])  # Select only numeric data, excluding any non-numeric (object) types.\n",
        "centroidweight = num[\"weight\"].mean(axis=0)  # Calculate the mean (centroid) of the 'weight' column.\n",
        "centroidbmi = num[\"bmi\"].mean(axis=0)  # Calculate the mean (centroid) of the 'bmi' column.\n",
        "spreadweight = num[\"weight\"].std(axis=0)  # Calculate the standard deviation (spread) of the 'weight' column.\n",
        "spreadbmi = num[\"bmi\"].std(axis=0)  # Calculate the standard deviation (spread) of the 'bmi' column.\n",
        "distance = np.linalg.norm(centroidweight - centroidbmi)  # Calculate the Euclidean distance between the centroids of 'weight' and 'bmi'.\n",
        "print(\"The distance is\", distance)  # Print the calculated distance (which isn't meaningful due to the unit mismatch).\n"
      ],
      "metadata": {
        "colab": {
          "base_uri": "https://localhost:8080/"
        },
        "id": "w8ZjZyO0-1LX",
        "outputId": "3e2aeb33-c7d4-45d5-905e-b37a45632054"
      },
      "execution_count": 59,
      "outputs": [
        {
          "output_type": "stream",
          "name": "stdout",
          "text": [
            "The distance is 38.20639949906074\n",
            "38.20639949906074\n"
          ]
        }
      ]
    },
    {
      "cell_type": "markdown",
      "source": [
        "A2) Take any feature from your dataset. Observe the density pattern for that feature by plotting the\n",
        "histogram. Use buckets (data in ranges) for histogram generation and study. Calculate the mean and\n",
        "variance from the available data.  \n",
        "(Suggestion: numpy.histogram()gives the histogram data. Plot of histogram may be\n",
        "achieved with matplotlib.pyplot.hist())"
      ],
      "metadata": {
        "id": "pSEWFi4AkQht"
      }
    },
    {
      "cell_type": "code",
      "source": [
        "dfcases.info()"
      ],
      "metadata": {
        "colab": {
          "base_uri": "https://localhost:8080/"
        },
        "id": "8wr7FXam-_F7",
        "outputId": "ab984b3a-e6f3-4c2d-fa8e-da0ed1a4a501"
      },
      "execution_count": 26,
      "outputs": [
        {
          "output_type": "stream",
          "name": "stdout",
          "text": [
            "<class 'pandas.core.frame.DataFrame'>\n",
            "RangeIndex: 6388 entries, 0 to 6387\n",
            "Data columns (total 74 columns):\n",
            " #   Column               Non-Null Count  Dtype  \n",
            "---  ------               --------------  -----  \n",
            " 0   caseid               6388 non-null   int64  \n",
            " 1   subjectid            6388 non-null   int64  \n",
            " 2   casestart            6388 non-null   int64  \n",
            " 3   caseend              6388 non-null   int64  \n",
            " 4   anestart             6388 non-null   int64  \n",
            " 5   aneend               6388 non-null   float64\n",
            " 6   opstart              6388 non-null   int64  \n",
            " 7   opend                6388 non-null   int64  \n",
            " 8   adm                  6388 non-null   int64  \n",
            " 9   dis                  6388 non-null   int64  \n",
            " 10  icu_days             6388 non-null   int64  \n",
            " 11  death_inhosp         6388 non-null   int64  \n",
            " 12  age                  6388 non-null   float64\n",
            " 13  sex                  6388 non-null   object \n",
            " 14  height               6388 non-null   float64\n",
            " 15  weight               6388 non-null   float64\n",
            " 16  bmi                  6388 non-null   float64\n",
            " 17  asa                  6255 non-null   float64\n",
            " 18  emop                 6388 non-null   int64  \n",
            " 19  department           6388 non-null   object \n",
            " 20  optype               6388 non-null   object \n",
            " 21  dx                   6388 non-null   object \n",
            " 22  opname               6388 non-null   object \n",
            " 23  approach             6388 non-null   object \n",
            " 24  position             6194 non-null   object \n",
            " 25  ane_type             6388 non-null   object \n",
            " 26  preop_htn            6388 non-null   int64  \n",
            " 27  preop_dm             6388 non-null   int64  \n",
            " 28  preop_ecg            6388 non-null   object \n",
            " 29  preop_pft            6388 non-null   object \n",
            " 30  preop_hb             6047 non-null   float64\n",
            " 31  preop_plt            6047 non-null   float64\n",
            " 32  preop_pt             5998 non-null   float64\n",
            " 33  preop_aptt           5986 non-null   float64\n",
            " 34  preop_na             5765 non-null   float64\n",
            " 35  preop_k              5767 non-null   float64\n",
            " 36  preop_gluc           6010 non-null   float64\n",
            " 37  preop_alb            6016 non-null   float64\n",
            " 38  preop_ast            6022 non-null   float64\n",
            " 39  preop_alt            6024 non-null   float64\n",
            " 40  preop_bun            6023 non-null   float64\n",
            " 41  preop_cr             6016 non-null   float64\n",
            " 42  preop_ph             546 non-null    float64\n",
            " 43  preop_hco3           533 non-null    float64\n",
            " 44  preop_be             532 non-null    float64\n",
            " 45  preop_pao2           538 non-null    float64\n",
            " 46  preop_paco2          538 non-null    float64\n",
            " 47  preop_sao2           533 non-null    float64\n",
            " 48  cormack              5553 non-null   object \n",
            " 49  airway               5973 non-null   object \n",
            " 50  tubesize             4919 non-null   float64\n",
            " 51  dltubesize           930 non-null    object \n",
            " 52  lmasize              102 non-null    float64\n",
            " 53  iv1                  6313 non-null   object \n",
            " 54  iv2                  1437 non-null   object \n",
            " 55  aline1               3463 non-null   object \n",
            " 56  aline2               105 non-null    object \n",
            " 57  cline1               1541 non-null   object \n",
            " 58  cline2               60 non-null     object \n",
            " 59  intraop_ebl          3987 non-null   float64\n",
            " 60  intraop_uo           3707 non-null   float64\n",
            " 61  intraop_rbc          6388 non-null   int64  \n",
            " 62  intraop_ffp          6388 non-null   int64  \n",
            " 63  intraop_crystalloid  5980 non-null   float64\n",
            " 64  intraop_colloid      6388 non-null   int64  \n",
            " 65  intraop_ppf          6388 non-null   int64  \n",
            " 66  intraop_mdz          6388 non-null   float64\n",
            " 67  intraop_ftn          6388 non-null   int64  \n",
            " 68  intraop_rocu         6388 non-null   int64  \n",
            " 69  intraop_vecu         6388 non-null   int64  \n",
            " 70  intraop_eph          6388 non-null   int64  \n",
            " 71  intraop_phe          6388 non-null   int64  \n",
            " 72  intraop_epi          6388 non-null   int64  \n",
            " 73  intraop_ca           6388 non-null   int64  \n",
            "dtypes: float64(30), int64(25), object(19)\n",
            "memory usage: 3.6+ MB\n"
          ]
        }
      ]
    },
    {
      "cell_type": "code",
      "source": [
        "import matplotlib.pyplot as plt\n",
        "dfCases = pd.read_csv(\"https://api.vitaldb.net/cases\")  # Read the clinical data from the provided URL\n",
        "# Calculate caseduration\n",
        "dfCases[\"caseduration\"] = pd.to_datetime(dfCases[\"caseend\"]) - pd.to_datetime(dfCases[\"casestart\"])  # Compute the difference between case end and start times\n",
        "# Convert caseduration to total seconds for numerical analysis\n",
        "dfCases[\"caseduration\"] = dfCases[\"caseduration\"].dt.total_seconds()  # Convert the time difference into total seconds\n",
        "# Drop any NaN values that might result from invalid or missing data\n",
        "dfCases = dfCases.dropna(subset=[\"caseduration\"])  # Remove rows where 'caseduration' is NaN\n",
        "# Calculate histogram data\n",
        "hist, bins = np.histogram(dfCases[\"caseduration\"], bins=10)  # Calculate histogram data for 'caseduration' with 10 bins\n",
        "# Plot histogram\n",
        "plt.figure(figsize=(10, 6))  # Set the figure size for the plot\n",
        "plt.hist(dfCases[\"caseduration\"], bins=bins, edgecolor='black', alpha=0.7)  # Plot the histogram with black edges and semi-transparent bars\n",
        "plt.title(\"Histogram of Case Duration\")  # Set the title of the plot\n",
        "plt.xlabel(\"Case Duration (seconds)\")  # Label the x-axis\n",
        "plt.ylabel(\"Frequency\")  # Label the y-axis\n",
        "plt.grid(True)  # Enable grid lines for better readability\n",
        "plt.show()  # Display the plot\n"
      ],
      "metadata": {
        "colab": {
          "base_uri": "https://localhost:8080/",
          "height": 600
        },
        "id": "mRq78-6UknK5",
        "outputId": "2247e579-3a63-478f-c3ff-4737a01d3b2f"
      },
      "execution_count": 29,
      "outputs": [
        {
          "output_type": "display_data",
          "data": {
            "text/plain": [
              "<Figure size 1000x600 with 1 Axes>"
            ],
            "image/png": "[encoded data removed]"
          },
          "metadata": {}
        },
        {
          "output_type": "stream",
          "name": "stdout",
          "text": [
            "Mean of Case Duration: 0.00 seconds\n",
            "Variance of Case Duration: 0.00 seconds^2\n"
          ]
        }
      ]
    },
    {
      "cell_type": "code",
      "source": [
        "threshold_minutes = 240 * 60  # Define the threshold for long cases as 240 minutes, converted to seconds (240 * 60)\n",
        "# Classify cases based on duration\n",
        "dfCases['case_duration_class'] = dfCases['caseduration'].apply(lambda x: 'long' if x > threshold_minutes else 'short')\n",
        "# Create a new column 'case_duration_class' where each case is labeled 'long' if its duration exceeds the threshold, otherwise 'short'"
      ],
      "metadata": {
        "id": "qVcnFn_xBw8g"
      },
      "execution_count": 47,
      "outputs": []
    },
    {
      "cell_type": "code",
      "source": [
        "# Calculate mean and variance\n",
        "mean_caseduration = dfCases[\"caseduration\"].mean()\n",
        "variance_caseduration = dfCases[\"caseduration\"].var()\n",
        "print(\"Mean of Case Duration:\", mean_caseduration)\n",
        "print(\"Variance of Case Duration:\", variance_caseduration)\n",
        "\n"
      ],
      "metadata": {
        "colab": {
          "base_uri": "https://localhost:8080/"
        },
        "id": "1ExhQTcZlXOj",
        "outputId": "f2945b66-0f35-4ccf-e3c5-26b46f71daad"
      },
      "execution_count": 34,
      "outputs": [
        {
          "output_type": "stream",
          "name": "stdout",
          "text": [
            "Mean of Case Duration: 1.134868065122104e-05\n",
            "Variance of Case Duration: 4.4335713363164e-11\n"
          ]
        }
      ]
    },
    {
      "cell_type": "markdown",
      "source": [
        " A3) Take any two feature vectors from your dataset. Calculate the Minkwoski distance with r from 1\n",
        "to 10. Make a plot of the distance and observe the nature of this graph. A"
      ],
      "metadata": {
        "id": "xsRf3yGv6R5i"
      }
    },
    {
      "cell_type": "code",
      "source": [
        "from scipy.spatial.distance import minkowski  # Import the Minkowski distance function from SciPy\n",
        "import matplotlib.pyplot as plt  # Import the plotting library\n",
        "# Define the vectors for comparison\n",
        "vector1 = dfCases[\"weight\"].values  # Extract the 'weight' column as a NumPy array\n",
        "vector2 = dfCases[\"bmi\"].values  # Extract the 'bmi' column as a NumPy array\n",
        "minkowski_distances = []  # Initialize an empty list to store Minkowski distances\n",
        "# Compute Minkowski distances for different values of r\n",
        "for r in range(1, 11):  # Iterate over r values from 1 to 10\n",
        "    distance = minkowski(vector1, vector2, p=r)  # Calculate Minkowski distance with current r\n",
        "    minkowski_distances.append(distance)  # Append the distance to the list\n",
        "# Plot the Minkowski distance against r values\n",
        "plt.figure(figsize=(10, 6))  # Set the figure size for the plot\n",
        "plt.plot(range(1, 11), minkowski_distances, marker='o', linestyle='-', color='b')\n",
        "# Plot the Minkowski distance vs. r with markers and a line\n",
        "plt.title(\"Minkowski Distance vs. r (1 to 10)\")  # Set the plot title\n",
        "plt.xlabel(\"r\")  # Label the x-axis\n",
        "plt.ylabel(\"Minkowski Distance\")  # Label the y-axis\n",
        "plt.xticks(range(1, 11))  # Set x-ticks to match the range of r values\n",
        "plt.grid(True)  # Enable grid lines for better readability\n",
        "plt.show()  # Display the plot\n",
        "print(f\"Minkowski Distances for r=1 to r=10: {minkowski_distances}\")  # Print the calculated distances"
      ],
      "metadata": {
        "colab": {
          "base_uri": "https://localhost:8080/",
          "height": 602
        },
        "id": "fTJcV7md5r90",
        "outputId": "d291a16b-7676-413d-aa24-81b7fbd9826b"
      },
      "execution_count": 35,
      "outputs": [
        {
          "output_type": "display_data",
          "data": {
            "text/plain": [
              "<Figure size 1000x600 with 1 Axes>"
            ],
            "image/png": "[encoded data removed]"
          },
          "metadata": {}
        },
        {
          "output_type": "stream",
          "name": "stdout",
          "text": [
            "Minkowski Distances for r=1 to r=10: [244387.28, 3142.5554470526054, 749.2452668888051, 370.64524728541727, 245.5417591347307, 188.2781451869384, 157.00233203039792, 138.02474391743857, 125.74120812073282, 117.47621391776367]\n"
          ]
        }
      ]
    },
    {
      "cell_type": "code",
      "source": [
        "# Define features (X) and target (y)\n",
        "X = dfCases[['casestart', 'caseend', 'caseduration']]  # Select features: start time, end time, and duration\n",
        "y = dfCases['case_duration_class']  # Select target variable: case duration class (long or short)\n",
        "# Split the data into training and testing sets\n",
        "X_train, X_test, y_train, y_test = train_test_split(X, y, test_size=0.3, random_state=42)\n",
        "# Split data with 30% of it reserved for testing and 70% for training; random_state=42 ensures reproducibility\n",
        "# Print shapes of the resulting datasets\n",
        "print(\"X_train shape:\", X_train.shape)  # Print the shape of the training features\n",
        "print(\"X_test shape:\", X_test.shape)    # Print the shape of the testing features\n",
        "print(\"y_train shape:\", y_train.shape)  # Print the shape of the training target\n",
        "print(\"y_test shape:\", y_test.shape)    # Print the shape of the testing target"
      ],
      "metadata": {
        "colab": {
          "base_uri": "https://localhost:8080/"
        },
        "id": "diRL6YJz7kQq",
        "outputId": "c3cb3f54-cde2-4ca8-a5ac-4699e14b8230"
      },
      "execution_count": 48,
      "outputs": [
        {
          "output_type": "stream",
          "name": "stdout",
          "text": [
            "X_train shape: (4471, 3)\n",
            "X_test shape: (1917, 3)\n",
            "y_train shape: (4471,)\n",
            "y_test shape: (1917,)\n"
          ]
        }
      ]
    },
    {
      "cell_type": "markdown",
      "source": [
        " A5)Train a kNN classifier (k =3) using the training set obtained from above exercise. Following code\n",
        "for help:\n",
        ">>> import numpy as np\n",
        ">>> from sklearn.neighbors import KNeighborsClassifier\n",
        ">>> neigh = KNeighborsClassifier(n_neighbors=3)\n",
        ">>> neigh.fit(X, y)"
      ],
      "metadata": {
        "id": "iqdUy-S3_nPf"
      }
    },
    {
      "cell_type": "code",
      "source": [
        "from sklearn.neighbors import KNeighborsClassifier  # Import the K-Nearest Neighbors classifier\n",
        "# Initialize the K-Nearest Neighbors classifier with 3 neighbors\n",
        "neigh = KNeighborsClassifier(n_neighbors=3)\n",
        "# Fit the classifier on the entire dataset\n",
        "neigh.fit(X, y)\n",
        "# Evaluate the classifier's performance on the test data\n",
        "neigh.score(X_test, y_test)\n",
        "# Return the accuracy of the classifier on the test set (proportion of correctly classified samples)"
      ],
      "metadata": {
        "colab": {
          "base_uri": "https://localhost:8080/"
        },
        "id": "xCABhrOK-8gA",
        "outputId": "8ab0a027-a375-4fd5-c6f9-384c0d02bb79"
      },
      "execution_count": 50,
      "outputs": [
        {
          "output_type": "execute_result",
          "data": {
            "text/plain": [
              "1.0"
            ]
          },
          "metadata": {},
          "execution_count": 50
        }
      ]
    },
    {
      "cell_type": "markdown",
      "source": [
        "A6)Test the accuracy of the kNN using the test set obtained from above exercise. Following code for\n",
        "help."
      ],
      "metadata": {
        "id": "qc8W3ge-CKgb"
      }
    },
    {
      "cell_type": "code",
      "source": [
        "neigh.score(X_test, y_test) #Evaluate the accuracy"
      ],
      "metadata": {
        "colab": {
          "base_uri": "https://localhost:8080/"
        },
        "id": "VZdbY0e4AIBS",
        "outputId": "f87f6426-0bd7-45a2-bb43-4036fb623c6d"
      },
      "execution_count": 51,
      "outputs": [
        {
          "output_type": "execute_result",
          "data": {
            "text/plain": [
              "1.0"
            ]
          },
          "metadata": {},
          "execution_count": 51
        }
      ]
    },
    {
      "cell_type": "markdown",
      "source": [
        "A7) Use the predict() function to study the prediction behavior of the classifier for test vectors. Perform classification for a given vector using neigh.predict(<<test_vect>>). This shall produce the\n",
        "class of the test vector (test_vect is any feature vector from your test set)."
      ],
      "metadata": {
        "id": "7K6KDkrIChGv"
      }
    },
    {
      "cell_type": "code",
      "source": [
        "neighbour.predict(X_test) # Predict the class labels for the test data"
      ],
      "metadata": {
        "colab": {
          "base_uri": "https://localhost:8080/"
        },
        "id": "lI16WYDGCbs2",
        "outputId": "6f95de22-ada5-4399-9896-638d11e0403a"
      },
      "execution_count": 52,
      "outputs": [
        {
          "output_type": "execute_result",
          "data": {
            "text/plain": [
              "array(['short', 'short', 'short', ..., 'short', 'short', 'short'],\n",
              "      dtype=object)"
            ]
          },
          "metadata": {},
          "execution_count": 52
        }
      ]
    },
    {
      "cell_type": "markdown",
      "source": [
        "A8) Make k = 1 to implement NN classifier and compare the results with kNN (k = 3). Vary k from 1 to\n",
        "11 and make an accuracy plot."
      ],
      "metadata": {
        "id": "14aF8RzxC_xd"
      }
    },
    {
      "cell_type": "code",
      "source": [
        "from sklearn.metrics import accuracy_score  # Import accuracy score metric\n",
        "import matplotlib.pyplot as plt  # Import plotting library\n",
        "\n",
        "# Define the range of k values to test\n",
        "k_vals = list(range(1, 12))  # k values from 1 to 11\n",
        "accuracies = []  # Initialize an empty list to store accuracy scores\n",
        "# Iterate over each k value\n",
        "for k in k_vals:\n",
        "    # Initialize the K-Nearest Neighbors classifier with the current k\n",
        "    neigh = KNeighborsClassifier(n_neighbors=k)\n",
        "    # Fit the classifier on the training data\n",
        "    neigh.fit(X_train, y_train)\n",
        "    # Predict the class labels for the test data\n",
        "    y_pred = neigh.predict(X_test)\n",
        "    # Calculate accuracy of the model on the test data\n",
        "    accuracy = accuracy_score(y_test, y_pred)\n",
        "    # Append the accuracy to the list\n",
        "    accuracies.append(accuracy)\n",
        "# Plot accuracy vs. k\n",
        "plt.figure(figsize=(10, 6))  # Set figure size\n",
        "plt.plot(k_vals, accuracies, marker='o', linestyle='-')\n",
        "# Plot accuracy against k with markers and a line\n",
        "plt.title('Accuracy vs. k in kNN')  # Set plot title\n",
        "plt.xlabel('k')  # Label x-axis\n",
        "plt.ylabel('Accuracy')  # Label y-axis\n",
        "plt.grid(True)  # Enable grid lines for better readability\n",
        "plt.show()  # Display the plot"
      ],
      "metadata": {
        "colab": {
          "base_uri": "https://localhost:8080/",
          "height": 564
        },
        "id": "VgYB82LRCvqh",
        "outputId": "129bd68a-f393-453d-c74b-10a9212daa19"
      },
      "execution_count": 54,
      "outputs": [
        {
          "output_type": "display_data",
          "data": {
            "text/plain": [
              "<Figure size 1000x600 with 1 Axes>"
            ],
            "image/png": "[encoded data removed]"
          },
          "metadata": {}
        }
      ]
    },
    {
      "cell_type": "markdown",
      "source": [
        "A9) Please evaluate confusion matrix for your classification problem. From confusion matrix, the\n",
        "other performance metrics such as precision, recall and F1-Score measures for both training and test\n",
        "data. Based on your observations, infer the models learning outcome (underfit / regularfit / overfit)."
      ],
      "metadata": {
        "id": "MIWR0UDXD323"
      }
    },
    {
      "cell_type": "code",
      "source": [
        "from sklearn.metrics import confusion_matrix, classification_report  # Import metrics for evaluating classification performance\n",
        "# Predict class labels for the training data\n",
        "y_train_pred = neigh.predict(X_train)\n",
        "# Predict class labels for the test data\n",
        "y_test_pred = neigh.predict(X_test)\n",
        "# Calculate and print confusion matrix and classification report for training data\n",
        "print(\"Training Data Performance:\")\n",
        "train_cm = confusion_matrix(y_train, y_train_pred)  # Compute confusion matrix for training data\n",
        "print(\"Confusion Matrix:\")\n",
        "print(train_cm)  # Display confusion matrix\n",
        "train_report = classification_report(y_train, y_train_pred)  # Compute classification report for training data\n",
        "print(\"Classification Report:\")\n",
        "print(train_report)  # Display classification report\n",
        "# Calculate and print confusion matrix and classification report for test data\n",
        "print(\"\\nTest Data Performance:\")\n",
        "test_cm = confusion_matrix(y_test, y_test_pred)  # Compute confusion matrix for test data\n",
        "print(\"Confusion Matrix:\")\n",
        "print(test_cm)  # Display confusion matrix\n",
        "test_report = classification_report(y_test, y_test_pred)  # Compute classification report for test data\n",
        "print(\"Classification Report:\")\n",
        "print(test_report)  # Display classification report"
      ],
      "metadata": {
        "colab": {
          "base_uri": "https://localhost:8080/"
        },
        "id": "6o3wVVX9Dm_n",
        "outputId": "29a12d5b-68f9-4c39-b061-2eff18e09cfb"
      },
      "execution_count": 56,
      "outputs": [
        {
          "output_type": "stream",
          "name": "stdout",
          "text": [
            "Training Data Performance:\n",
            "Confusion Matrix:\n",
            "[[4471]]\n",
            "Classification Report:\n",
            "              precision    recall  f1-score   support\n",
            "\n",
            "       short       1.00      1.00      1.00      4471\n",
            "\n",
            "    accuracy                           1.00      4471\n",
            "   macro avg       1.00      1.00      1.00      4471\n",
            "weighted avg       1.00      1.00      1.00      4471\n",
            "\n",
            "\n",
            "Test Data Performance:\n",
            "Confusion Matrix:\n",
            "[[1917]]\n",
            "Classification Report:\n",
            "              precision    recall  f1-score   support\n",
            "\n",
            "       short       1.00      1.00      1.00      1917\n",
            "\n",
            "    accuracy                           1.00      1917\n",
            "   macro avg       1.00      1.00      1.00      1917\n",
            "weighted avg       1.00      1.00      1.00      1917\n",
            "\n"
          ]
        }
      ]
    },
    {
      "cell_type": "code",
      "source": [],
      "metadata": {
        "id": "vOgdbhKfEVct"
      },
      "execution_count": null,
      "outputs": []
    }
  ]
}