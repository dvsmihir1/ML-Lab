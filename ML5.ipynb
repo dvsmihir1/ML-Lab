{
  "nbformat": 4,
  "nbformat_minor": 0,
  "metadata": {
    "colab": {
      "provenance": [],
      "authorship_tag": "ABX9TyP+fY61An4DzAKCEmYxWZZ4",
      "include_colab_link": true
    },
    "kernelspec": {
      "name": "python3",
      "display_name": "Python 3"
    },
    "language_info": {
      "name": "python"
    }
  },
  "cells": [
    {
      "cell_type": "markdown",
      "metadata": {
        "id": "view-in-github",
        "colab_type": "text"
      },
      "source": [
        "<a href=\"https://colab.research.google.com/github/dvsmihir1/ML-Lab/blob/main/ML5.ipynb\" target=\"_parent\"><img src=\"https://colab.research.google.com/assets/colab-badge.svg\" alt=\"Open In Colab\"/></a>"
      ]
    },
    {
      "cell_type": "code",
      "execution_count": 1,
      "metadata": {
        "id": "1b5r4XTNveQM"
      },
      "outputs": [],
      "source": [
        "import pandas as pd\n",
        "import numpy as np\n",
        "from sklearn.cluster import KMeans\n",
        "from sklearn.preprocessing import StandardScaler\n",
        "from sklearn.impute import SimpleImputer\n",
        "from sklearn.linear_model import LinearRegression\n",
        "from sklearn.model_selection import train_test_split\n",
        "from sklearn.impute import SimpleImputer\n",
        "from sklearn.metrics import mean_squared_error, mean_absolute_percentage_error, r2_score\n",
        "from sklearn.metrics import silhouette_score, calinski_harabasz_score, davies_bouldin_score\n",
        "import matplotlib.pyplot as plt\n",
        "import seaborn as sns\n",
        "dfcases = pd.read_csv(\"https://api.vitaldb.net/cases\")"
      ]
    },
    {
      "cell_type": "markdown",
      "source": [
        "Q1) If your project deals with a regression problem, please use one attribute of your dataset\n",
        "(X_train) along with the target values (y_train) for training a linear regression model. Sample code\n",
        "suggested below.\n",
        "\n",
        "from sklearn.linear_model import LinearRegression\n",
        "\n",
        "reg = LinearRegression().fit(X_train, y_train)\n",
        "\n",
        "y_train_pred = reg.predict(X_train)\n",
        "\n",
        "(P.S.: If your project deals with a classification or clustering problem, please consider one of the\n",
        "attributes with numerical values as target values.)"
      ],
      "metadata": {
        "id": "Tx4SGqWEJZJV"
      }
    },
    {
      "cell_type": "code",
      "source": [
        "X = dfcases[['weight']]  # This will be the predictor\n",
        "y = dfcases['height']  # This will be the target\n",
        "# Split into training and test sets\n",
        "X_train, X_test, y_train, y_test = train_test_split(X, y, test_size=0.2, random_state=0)\n",
        "# Train the linear regression model\n",
        "reg = LinearRegression().fit(X_train, y_train)\n",
        "# Predict on the training data\n",
        "y_train_pred = reg.predict(X_train)\n",
        "# Print the coefficients and intercept\n",
        "print(\"Coefficients:\", reg.coef_)\n",
        "print(\"Intercept:\", reg.intercept_)\n",
        "# Print the first few predicted values\n",
        "print(\"Predicted values:\", y_train_pred[:5])"
      ],
      "metadata": {
        "colab": {
          "base_uri": "https://localhost:8080/"
        },
        "id": "VdXdSqoxF6sw",
        "outputId": "ae76d75f-6fa4-4c28-c994-1591f7667d8e"
      },
      "execution_count": 2,
      "outputs": [
        {
          "output_type": "stream",
          "name": "stdout",
          "text": [
            "Coefficients: [0.489448]\n",
            "Intercept: 132.13908887548013\n",
            "Predicted values: [168.84768921 157.1988267  162.68064435 155.77942749 159.84184593]\n"
          ]
        }
      ]
    },
    {
      "cell_type": "markdown",
      "source": [
        "Q2) Calculate MSE, RMSE, MAPE and R2 scores for prediction made by the trained model in A1.  \n",
        "Perform prediction on the test data and compare the metric values between train and test set."
      ],
      "metadata": {
        "id": "YIizjHITlTc2"
      }
    },
    {
      "cell_type": "code",
      "source": [
        "y_train_pred = reg.predict(X_train) # Use the trained regression model to predict the target variable for the training data\n",
        "y_test_pred = reg.predict(X_test) # Use the trained regression model to predict the target variable for the test data\n",
        "# Calculate metrics for the training set\n",
        "mse_train = mean_squared_error(y_train, y_train_pred) # MSE measures the average squared difference between predicted and actual values\n",
        "rmse_train = np.sqrt(mse_train) # RMSE is the square root of MSE and provides an error metric in the same units as the target variable\n",
        "mape_train = mean_absolute_percentage_error(y_train, y_train_pred) # MAPE expresses the prediction error as a percentage, which is useful for understanding the error relative to the size of the actual values\n",
        "r2_train = r2_score(y_train, y_train_pred)# R2 indicates how well the model explains the variability of the target variable; values closer to 1 suggest a better fit"
      ],
      "metadata": {
        "id": "UdNrBRHilNMb"
      },
      "execution_count": 3,
      "outputs": []
    },
    {
      "cell_type": "code",
      "source": [
        "# Calculate metrics for the test set\n",
        "mse_test = mean_squared_error(y_test, y_test_pred) # MSE measures the average squared difference between the predicted values and the actual values in the test set\n",
        "rmse_test = np.sqrt(mse_test) # RMSE is the square root of MSE, providing an error metric that is in the same units as the target variable\n",
        "mape_test = mean_absolute_percentage_error(y_test, y_test_pred) # MAPE expresses the prediction error as a percentage of the actual values, useful for understanding relative accuracy\n",
        "r2_test = r2_score(y_test, y_test_pred) # R2 indicates how well the model explains the variability of the target variable in the test set; values closer to 1 suggest a better fit"
      ],
      "metadata": {
        "id": "puYCVryTlbfg"
      },
      "execution_count": 4,
      "outputs": []
    },
    {
      "cell_type": "code",
      "source": [
        "print(\"Training Set Metrics:\")\n",
        "print(f\"MSE: {mse_train:.12f}\")\n",
        "print(f\"RMSE: {rmse_train:.12f}\")\n",
        "print(f\"MAPE: {mape_train:.12f}\")\n",
        "print(f\"R²: {r2_train:.12f}\")\n",
        "print(\"\\nTest Set Metrics:\")\n",
        "print(f\"MSE: {mse_test:.12f}\")\n",
        "print(f\"RMSE: {rmse_test:.12f}\")\n",
        "print(f\"MAPE: {mape_test:.12f}\")\n",
        "print(f\"R²: {r2_test:.12f}\")"
      ],
      "metadata": {
        "colab": {
          "base_uri": "https://localhost:8080/"
        },
        "id": "yatHA0wmleIR",
        "outputId": "c67cae5a-d16d-4db2-ef0b-790b0dbb3615"
      },
      "execution_count": 6,
      "outputs": [
        {
          "output_type": "stream",
          "name": "stdout",
          "text": [
            "Training Set Metrics:\n",
            "MSE: 62.828607926006\n",
            "RMSE: 7.926449894247\n",
            "MAPE: 0.038002522349\n",
            "R²: 0.353069418273\n",
            "\n",
            "Test Set Metrics:\n",
            "MSE: 66.048085205984\n",
            "RMSE: 8.126997305646\n",
            "MAPE: 0.039000403876\n",
            "R²: 0.352525366376\n"
          ]
        }
      ]
    },
    {
      "cell_type": "markdown",
      "source": [
        "Q3) Repeat the exercises A1 and A2 with more than one attribute or all attributes."
      ],
      "metadata": {
        "id": "EaDaZcbPmit1"
      }
    },
    {
      "cell_type": "code",
      "source": [
        "dfcases = pd.read_csv(\"https://api.vitaldb.net/cases\")\n",
        "numeric_cols = dfcases.select_dtypes(include=[np.number]).columns # Select only the numeric columns from the DataFrame for feature extraction\n",
        "X = dfcases[numeric_cols].drop(columns=['weight'])  # Create the feature set X by dropping the 'weight' column from the numeric columns\n",
        "# 'weight' is excluded as it is not needed for predicting 'height'\n",
        "y = dfcases['height']   # Create the target variable y, which is the 'height' column from the DataFrame\n",
        "X = X.fillna(X.mean())  # Fill missing values in the feature set X with the mean of each column\n",
        "y = y.fillna(y.mean())  # Fill missing values in the feature set Y with the mean of each column\n",
        "reg = LinearRegression().fit(X_train, y_train) # Fit a Linear Regression model using the training data (X_train and y_train)\n",
        "y_train_pred = reg.predict(X_train) # Predict the target variable for the training set using the fitted model\n",
        "y_test_pred = reg.predict(X_test) # Predict the target variable for the test set using the fitted model"
      ],
      "metadata": {
        "id": "x5G9cyQymg5r"
      },
      "execution_count": 7,
      "outputs": []
    },
    {
      "cell_type": "code",
      "source": [
        "# Split the dataset into training and testing sets\n",
        "# 80% of the data will be used for training and 20% for testing\n",
        "# random_state=0 ensures reproducibility of the split\n",
        "X_train, X_test, y_train, y_test = train_test_split(X, y, test_size=0.2, random_state=0)\n",
        "reg = LinearRegression().fit(X_train, y_train) # Instantiate and fit a Linear Regression model using the training data (X_train and y_train)\n",
        "# Predict the target variable for the training set using the fitted model\n",
        "# This will provide insights into how well the model fits the training data\n",
        "y_train_pred = reg.predict(X_train)\n",
        "# Predict the target variable for the test set using the fitted model\n",
        "# This allows for evaluating the model's performance on unseen data\n",
        "y_test_pred = reg.predict(X_test)"
      ],
      "metadata": {
        "id": "C9AsdBQTuLMJ"
      },
      "execution_count": 8,
      "outputs": []
    },
    {
      "cell_type": "code",
      "source": [
        "mse_train = mean_squared_error(y_train, y_train_pred)# Calculate Mean Squared Error (MSE) for the training set predictions\n",
        "# MSE measures the average squared difference between the actual values (y_train) and the predicted values (y_train_pred)\n",
        "rmse_train = np.sqrt(mse_train)# Calculate Root Mean Squared Error (RMSE) for the training set\n",
        "# RMSE is the square root of MSE, providing an error metric that is in the same units as the target variable (height)\n",
        "mape_train = mean_absolute_percentage_error(y_train, y_train_pred) # Calculate Mean Absolute Percentage Error (MAPE) for the training set\n",
        "# MAPE expresses the prediction error as a percentage of the actual values, making it easier to interpret the accuracy relative to the size of the actual values\n",
        "r2_train = r2_score(y_train, y_train_pred)# Calculate R-squared (R2) for the training set\n",
        "# R2 indicates how well the model explains the variability of the target variable; values closer to 1 suggest a better fit"
      ],
      "metadata": {
        "id": "EK9A3HbYuUVb"
      },
      "execution_count": 9,
      "outputs": []
    },
    {
      "cell_type": "code",
      "source": [
        "#Calculating it for test set data\n",
        "mse_test = mean_squared_error(y_test, y_test_pred)\n",
        "rmse_test = np.sqrt(mse_test)\n",
        "mape_test = mean_absolute_percentage_error(y_test, y_test_pred)\n",
        "r2_test = r2_score(y_test, y_test_pred)"
      ],
      "metadata": {
        "id": "zNlGgoQVuYaP"
      },
      "execution_count": 10,
      "outputs": []
    },
    {
      "cell_type": "code",
      "source": [
        "print(\"Training Set Metrics (Multiple Attributes):\")\n",
        "print(f\"MSE: {mse_train:.12f}\")\n",
        "print(f\"RMSE: {rmse_train:.12f}\")\n",
        "print(f\"MAPE: {mape_train:.12f}\")\n",
        "print(f\"R²: {r2_train:.12f}\")\n",
        "print(\"\\nTest Set Metrics (Multiple Attributes):\")\n",
        "print(f\"MSE: {mse_test:.12f}\")\n",
        "print(f\"RMSE: {rmse_test:.12f}\")\n",
        "print(f\"MAPE: {mape_test:.12f}\")\n",
        "print(f\"R²: {r2_test:.12f}\")"
      ],
      "metadata": {
        "colab": {
          "base_uri": "https://localhost:8080/"
        },
        "id": "vcj5A9QXucMI",
        "outputId": "af024d24-4a1b-408f-f8f4-6cd67c58848f"
      },
      "execution_count": 11,
      "outputs": [
        {
          "output_type": "stream",
          "name": "stdout",
          "text": [
            "Training Set Metrics (Multiple Attributes):\n",
            "MSE: 0.000000000000\n",
            "RMSE: 0.000000001839\n",
            "MAPE: 0.000000000001\n",
            "R²: 1.000000000000\n",
            "\n",
            "Test Set Metrics (Multiple Attributes):\n",
            "MSE: 0.000000000000\n",
            "RMSE: 0.000000000148\n",
            "MAPE: 0.000000000001\n",
            "R²: 1.000000000000\n"
          ]
        }
      ]
    },
    {
      "cell_type": "markdown",
      "source": [
        "Q4) Perform k-means clustering on your data. Please remove / ignore the target variable for\n",
        "performing clustering. Sample code suggested below."
      ],
      "metadata": {
        "id": "MzWpbGo86xeE"
      }
    },
    {
      "cell_type": "code",
      "source": [
        "# Check for overlap between X_train and X_test\n",
        "overlap = X_train.index.intersection(X_test.index)\n",
        "print(f\"Overlap between train and test sets: {len(overlap)} rows\")\n",
        "# Check if the target is in the feature set\n",
        "print(\"Is the target in the feature set?\", 'target_column' in X.columns)\n",
        "# Preview the data to spot any obvious issues\n",
        "print(X_train.head())\n",
        "print(y_train.head())"
      ],
      "metadata": {
        "colab": {
          "base_uri": "https://localhost:8080/"
        },
        "id": "ZHgr3tzBu-Ea",
        "outputId": "076a69f9-c3fb-4dc9-e74a-bb1059ee6e3a"
      },
      "execution_count": 12,
      "outputs": [
        {
          "output_type": "stream",
          "name": "stdout",
          "text": [
            "Overlap between train and test sets: 0 rows\n",
            "Is the target in the feature set? False\n",
            "      caseid  subjectid  casestart  caseend  anestart   aneend  opstart  \\\n",
            "2951    2952       2094          0    22517      -542  21958.0     3058   \n",
            "5463    5464       1863          0     9877       468   9888.0     1788   \n",
            "3270    3271       4147          0    12462      -641  12319.0     1519   \n",
            "5700    5701       1725          0    13358     -1526  13714.0      514   \n",
            "3553    3554       5217          0     8908      -547   7853.0     1613   \n",
            "\n",
            "      opend      adm     dis  ...  intraop_colloid  intraop_ppf  intraop_mdz  \\\n",
            "2951  21058  -114540  663060  ...                0            0          0.0   \n",
            "5463   8988  -114900  403500  ...                0            0          0.0   \n",
            "3270  11419  -237840  539760  ...                0          120          0.0   \n",
            "5700  12757 -4555560  542040  ...              100          100          0.0   \n",
            "3553   8033  -122460   50340  ...                0            0          0.0   \n",
            "\n",
            "      intraop_ftn  intraop_rocu  intraop_vecu  intraop_eph  intraop_phe  \\\n",
            "2951            0            90             0            0            0   \n",
            "5463            0            90             0            0            0   \n",
            "3270            0            80             0           15            0   \n",
            "5700           25           110             0            0            0   \n",
            "3553            0            70             0           25            0   \n",
            "\n",
            "      intraop_epi  intraop_ca  \n",
            "2951            0           0  \n",
            "5463            0           0  \n",
            "3270            0           0  \n",
            "5700          260        5700  \n",
            "3553            0           0  \n",
            "\n",
            "[5 rows x 54 columns]\n",
            "2951    169.8\n",
            "5463    155.6\n",
            "3270    159.7\n",
            "5700    166.8\n",
            "3553    164.6\n",
            "Name: height, dtype: float64\n"
          ]
        }
      ]
    },
    {
      "cell_type": "code",
      "source": [
        "# Impute missing values with the mean of each column\n",
        "imputer = SimpleImputer(strategy='mean')\n",
        "X_imputed = imputer.fit_transform(X) # Fit the imputer to the feature set X and transform it to fill missing values\n",
        "print(X_imputed.shape)"
      ],
      "metadata": {
        "colab": {
          "base_uri": "https://localhost:8080/"
        },
        "id": "QV_E18VR76HI",
        "outputId": "d3dd54d9-3850-48ae-8525-5fc00c793855"
      },
      "execution_count": 13,
      "outputs": [
        {
          "output_type": "stream",
          "name": "stdout",
          "text": [
            "(6388, 54)\n"
          ]
        }
      ]
    },
    {
      "cell_type": "code",
      "source": [
        "# Select numeric columns from the DataFrame and drop the 'bmi' column\n",
        "# This creates the feature set X for clustering\n",
        "X = dfcases[numeric_cols].drop(columns=['bmi'])\n",
        "# Handle missing values\n",
        "X = X.fillna(X.mean())\n",
        "# Perform k-means clustering\n",
        "kmeans = KMeans(n_clusters=2, random_state=42, n_init=\"auto\").fit(X) # Perform k-means clustering with 2 clusters\n",
        "# random_state=42 ensures reproducibility, and n_init=\"auto\" allows the algorithm to determine the number of initializations\n",
        "# Output the cluster labels and centers\n",
        "labels = kmeans.labels_ # Output the cluster labels assigned to each data point\n",
        "cluster_centers = kmeans.cluster_centers_ # Output the coordinates of the cluster centers\n",
        "print(\"Cluster Labels:\", labels)\n",
        "print(\"Cluster Centers:\\n\", cluster_centers)"
      ],
      "metadata": {
        "colab": {
          "base_uri": "https://localhost:8080/"
        },
        "id": "sL0-bEopiid7",
        "outputId": "d1d5cebb-dbda-4eac-8b8b-51dc48b82107"
      },
      "execution_count": 14,
      "outputs": [
        {
          "output_type": "stream",
          "name": "stdout",
          "text": [
            "Cluster Labels: [0 0 0 ... 0 0 0]\n",
            "Cluster Centers:\n",
            " [[ 3.19429936e+03  3.04791451e+03  0.00000000e+00  1.13474043e+04\n",
            "  -7.56783936e+02  1.12216754e+04  2.18838406e+03  1.03462529e+04\n",
            "  -8.54427492e+05  5.03443258e+04  5.52841710e-01  8.92437764e-03\n",
            "   5.72974793e+01  1.62189347e+02  6.14877376e+01  1.84953680e+00\n",
            "   1.22436199e-01  3.07499609e-01  1.03491467e-01  1.28333048e+01\n",
            "   2.41447357e+02  1.00435508e+02  3.28835646e+01  1.40026996e+02\n",
            "   4.19634742e+00  1.15650653e+02  4.06374294e+00  3.24383280e+01\n",
            "   3.02784542e+01  1.61558983e+01  1.07974970e+00  7.38956227e+00\n",
            "   2.40735460e+01 -3.84962406e-01  1.02434572e+02  3.98907063e+01\n",
            "   9.25898687e+01  7.21674464e+00  3.24509804e+00  3.63228661e+02\n",
            "   2.50866874e+02  4.70486927e-01  1.28855488e-01  1.06009015e+03\n",
            "   3.21133553e+01  3.97829967e+01  3.69500548e-02  1.70463441e+01\n",
            "   7.28252701e+01  1.69093471e-02  7.74776891e+00  3.26283075e+01\n",
            "   7.89588226e+00  1.20753875e+02]\n",
            " [ 4.47600000e+03  1.84600000e+03  0.00000000e+00  1.95010000e+04\n",
            "  -2.15600000e+03 -3.69147042e+09  2.28400000e+03  1.84840000e+04\n",
            "  -2.03160000e+05  1.09284000e+06  0.00000000e+00  0.00000000e+00\n",
            "   5.10000000e+01  1.58900000e+02  4.35000000e+01  2.00000000e+00\n",
            "   0.00000000e+00  1.00000000e+00  0.00000000e+00  1.21000000e+01\n",
            "   1.80000000e+02  1.29000000e+02  3.66000000e+01  1.36000000e+02\n",
            "   4.60000000e+00  7.80000000e+01  4.30000000e+00  1.80000000e+01\n",
            "   1.50000000e+01  4.80000000e+01  8.54000000e+00  7.38956227e+00\n",
            "   2.40735460e+01 -3.84962406e-01  1.02434572e+02  3.98907063e+01\n",
            "   9.25898687e+01  7.00000000e+00  3.24509804e+00  2.50000000e+02\n",
            "   2.50000000e+02  0.00000000e+00  0.00000000e+00  2.00000000e+03\n",
            "   3.50000000e+01  0.00000000e+00  0.00000000e+00  0.00000000e+00\n",
            "   7.00000000e+01  0.00000000e+00  4.50000000e+01  5.00000000e+01\n",
            "   0.00000000e+00  3.00000000e+02]]\n"
          ]
        }
      ]
    },
    {
      "cell_type": "markdown",
      "source": [
        " Q5) For the clustering done in A4, calculate the: (i) Silhouette Score, (ii) CH Score and (iii) DB Index."
      ],
      "metadata": {
        "id": "99-fevln63lG"
      }
    },
    {
      "cell_type": "code",
      "source": [
        "sil_score = silhouette_score(X, labels) # Calculate the silhouette score using the feature set X and the cluster labels\n",
        "print(f\"Silhouette Score: {sil_score:.12f}\")"
      ],
      "metadata": {
        "colab": {
          "base_uri": "https://localhost:8080/"
        },
        "id": "wZoPd1iki8fL",
        "outputId": "6a4e1ade-66c0-4a69-c359-87afa24f4c2d"
      },
      "execution_count": 15,
      "outputs": [
        {
          "output_type": "stream",
          "name": "stdout",
          "text": [
            "Silhouette Score: 0.999277284540\n"
          ]
        }
      ]
    },
    {
      "cell_type": "code",
      "source": [
        "ch_score = calinski_harabasz_score(X, labels) # Calculate the calinski_harabasz score using the feature set X and the cluster labels\n",
        "print(f\"Calinski-Harabasz Score: {ch_score:.12f}\")"
      ],
      "metadata": {
        "colab": {
          "base_uri": "https://localhost:8080/"
        },
        "id": "gfoGvpZCwFp6",
        "outputId": "331ec221-dcf1-4d0d-c433-6801a118a99a"
      },
      "execution_count": 16,
      "outputs": [
        {
          "output_type": "stream",
          "name": "stdout",
          "text": [
            "Calinski-Harabasz Score: 3202.284922380475\n"
          ]
        }
      ]
    },
    {
      "cell_type": "code",
      "source": [
        "db_score = davies_bouldin_score(X, labels) # Calculate the davies bouldin score using the feature set X and the cluster labels\n",
        "print(f\"Davies-Bouldin Score: {db_score:.12f}\")"
      ],
      "metadata": {
        "colab": {
          "base_uri": "https://localhost:8080/"
        },
        "id": "KZcJ-qGXwYN5",
        "outputId": "82ff411c-8dde-4785-8193-d31cd9e09c0c"
      },
      "execution_count": 17,
      "outputs": [
        {
          "output_type": "stream",
          "name": "stdout",
          "text": [
            "Davies-Bouldin Score: 0.000491238050\n"
          ]
        }
      ]
    },
    {
      "cell_type": "markdown",
      "source": [
        "Q6) Perform k-means clustering for different values of k. Evaluate the above scores for each k value.\n",
        "Make a plot of the values against the k value to determine the optimal cluster count."
      ],
      "metadata": {
        "id": "Hl_OiOD_7BvL"
      }
    },
    {
      "cell_type": "code",
      "source": [
        "silhouette_scores = [] # Initialize an empty list to store silhouette scores for different numbers of clusters\n",
        "ch_scores = [] # Initialize an empty list to store calinski harabasz scores for different numbers of clusters\n",
        "db_scores = [] # Initialize an empty list to store davies bouldin scores for different numbers of clusters\n",
        "k_values = range(2, 11) #range of cluster values from 2 to 10"
      ],
      "metadata": {
        "id": "O4rSA22Fw8J5"
      },
      "execution_count": 18,
      "outputs": []
    },
    {
      "cell_type": "code",
      "source": [
        "for k in k_values:  # Iterate over the range of cluster values\n",
        "    kmeans = KMeans(n_clusters=k, random_state=42, n_init=\"auto\").fit(X)  # Perform k-means clustering with k clusters\n",
        "    labels = kmeans.labels_\n",
        "    silhouette_scores.append(silhouette_score(X, labels)) # Calculate the silhouette score for the current clustering\n",
        "    ch_scores.append(calinski_harabasz_score(X, labels)) # Calculate the calinski harabasz score for the current clustering\n",
        "    db_scores.append(davies_bouldin_score(X, labels)) # Calculate the davies bouldin score for the current clustering"
      ],
      "metadata": {
        "id": "IiHDN93CwcnN"
      },
      "execution_count": 19,
      "outputs": []
    },
    {
      "cell_type": "code",
      "source": [
        "# Plotting the metrics against k\n",
        "plt.figure(figsize=(15, 5))"
      ],
      "metadata": {
        "colab": {
          "base_uri": "https://localhost:8080/",
          "height": 53
        },
        "id": "eXEq4R-ZxBDN",
        "outputId": "e5ea0500-f820-4571-e005-199b850ae4f9"
      },
      "execution_count": 20,
      "outputs": [
        {
          "output_type": "execute_result",
          "data": {
            "text/plain": [
              "<Figure size 1500x500 with 0 Axes>"
            ]
          },
          "metadata": {},
          "execution_count": 20
        },
        {
          "output_type": "display_data",
          "data": {
            "text/plain": [
              "<Figure size 1500x500 with 0 Axes>"
            ]
          },
          "metadata": {}
        }
      ]
    },
    {
      "cell_type": "code",
      "source": [
        "# Silhouette Score plot\n",
        "plt.subplot(1, 3, 1) # Create a subplot in a 1x3 grid, in the first position\n",
        "plt.plot(k_values, silhouette_scores, marker='o')  # Plot the silhouette scores against the number of clusters (k)\n",
        "plt.title('Silhouette Score vs k')\n",
        "plt.xlabel('Number of clusters (k)')\n",
        "plt.ylabel('Silhouette Score')"
      ],
      "metadata": {
        "colab": {
          "base_uri": "https://localhost:8080/",
          "height": 490
        },
        "id": "jciEcHfFxJY3",
        "outputId": "54b9b226-2627-4d55-af57-5dc69be895d2"
      },
      "execution_count": 21,
      "outputs": [
        {
          "output_type": "execute_result",
          "data": {
            "text/plain": [
              "Text(0, 0.5, 'Silhouette Score')"
            ]
          },
          "metadata": {},
          "execution_count": 21
        },
        {
          "output_type": "display_data",
          "data": {
            "text/plain": [
              "<Figure size 640x480 with 1 Axes>"
            ],
            "image/png": "[encoded data removed]"
          },
          "metadata": {}
        }
      ]
    },
    {
      "cell_type": "code",
      "source": [
        "# Calinski-Harabasz Score plot\n",
        "plt.subplot(1, 3, 2) # Create a subplot in a 1x3 grid, in the second position\n",
        "plt.plot(k_values, ch_scores, marker='o') # Plot the calinski harabasz scores against the number of clusters (k)\n",
        "plt.title('Calinski-Harabasz Score vs k')\n",
        "plt.xlabel('Number of clusters (k)')\n",
        "plt.ylabel('CH Score')"
      ],
      "metadata": {
        "colab": {
          "base_uri": "https://localhost:8080/",
          "height": 505
        },
        "id": "rGMOELSzxNWC",
        "outputId": "4891fa5f-4ab2-4dfc-c761-8d113526a06b"
      },
      "execution_count": 22,
      "outputs": [
        {
          "output_type": "execute_result",
          "data": {
            "text/plain": [
              "Text(0, 0.5, 'CH Score')"
            ]
          },
          "metadata": {},
          "execution_count": 22
        },
        {
          "output_type": "display_data",
          "data": {
            "text/plain": [
              "<Figure size 640x480 with 1 Axes>"
            ],
            "image/png": "[encoded data removed]"
          },
          "metadata": {}
        }
      ]
    },
    {
      "cell_type": "code",
      "source": [
        "plt.subplot(1, 3, 3) # Create a subplot in a 1x3 grid, in the third position\n",
        "plt.plot(k_values, db_scores, marker='o') # Plot the davies bouldin scores against the number of clusters (k)\n",
        "plt.title('Davies-Bouldin Index vs k')\n",
        "plt.xlabel('Number of clusters (k)')\n",
        "plt.ylabel('DB Index')"
      ],
      "metadata": {
        "colab": {
          "base_uri": "https://localhost:8080/",
          "height": 490
        },
        "id": "wzO0A4oJXe0t",
        "outputId": "9184b37f-deb9-4c98-f9bf-637c0d47d565"
      },
      "execution_count": 23,
      "outputs": [
        {
          "output_type": "execute_result",
          "data": {
            "text/plain": [
              "Text(0, 0.5, 'DB Index')"
            ]
          },
          "metadata": {},
          "execution_count": 23
        },
        {
          "output_type": "display_data",
          "data": {
            "text/plain": [
              "<Figure size 640x480 with 1 Axes>"
            ],
            "image/png": "[encoded data removed]"
          },
          "metadata": {}
        }
      ]
    },
    {
      "cell_type": "markdown",
      "source": [
        "Q7) . Using elbow plot, determine the optimal k value for k-means clustering. Use below code"
      ],
      "metadata": {
        "id": "MauEwGNq7Jzc"
      }
    },
    {
      "cell_type": "code",
      "source": [
        "distortions = [] # Empty list to store the distortion values for different numbers of clusters\n",
        "# Loop over the range of k values\n",
        "for k in range(2, 20):\n",
        "    kmeans = KMeans(n_clusters=k, random_state=42, n_init=\"auto\").fit(X) # Perform k-means clustering with k clusters\n",
        "    distortions.append(kmeans.inertia_) # Append the inertia value to the distortions list"
      ],
      "metadata": {
        "id": "hVpgP8vpXiET"
      },
      "execution_count": 24,
      "outputs": []
    },
    {
      "cell_type": "code",
      "source": [
        "plt.figure(figsize=(5, 5)) # Create a new figure with a specified size\n",
        "plt.plot(range(2, 20), distortions, marker='o') # Plot the distortions against the number of clusters (k)\n",
        "plt.title('Elbow Plot: Distortions vs. Number of Clusters (k)')\n",
        "plt.xlabel('Number of clusters (k)')\n",
        "plt.ylabel('Distortion (Inertia)')\n",
        "plt.grid(True) # Grid lines for better readability\n",
        "plt.show()"
      ],
      "metadata": {
        "colab": {
          "base_uri": "https://localhost:8080/",
          "height": 502
        },
        "id": "GOTYDyM7YS18",
        "outputId": "6c8fc8dc-3ea8-4c66-b667-9061cc5ede4e"
      },
      "execution_count": 25,
      "outputs": [
        {
          "output_type": "display_data",
          "data": {
            "text/plain": [
              "<Figure size 500x500 with 1 Axes>"
            ],
            "image/png": "[encoded data removed]"
          },
          "metadata": {}
        }
      ]
    },
    {
      "cell_type": "code",
      "source": [],
      "metadata": {
        "id": "iqJwTyUsYVW1"
      },
      "execution_count": null,
      "outputs": []
    }
  ]
}