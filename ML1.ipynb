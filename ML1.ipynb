{
  "nbformat": 4,
  "nbformat_minor": 0,
  "metadata": {
    "colab": {
      "provenance": [],
      "authorship_tag": "ABX9TyO1Ymx34heuGKWd0/kyfWHh",
      "include_colab_link": true
    },
    "kernelspec": {
      "name": "python3",
      "display_name": "Python 3"
    },
    "language_info": {
      "name": "python"
    }
  },
  "cells": [
    {
      "cell_type": "markdown",
      "metadata": {
        "id": "view-in-github",
        "colab_type": "text"
      },
      "source": [
        "<a href=\"https://colab.research.google.com/github/dvsmihir1/ML-Lab/blob/main/ML1.ipynb\" target=\"_parent\"><img src=\"https://colab.research.google.com/assets/colab-badge.svg\" alt=\"Open In Colab\"/></a>"
      ]
    },
    {
      "cell_type": "markdown",
      "source": [
        "Q1) Vowels and Constants count"
      ],
      "metadata": {
        "id": "0jkkIxQJtt-b"
      }
    },
    {
      "cell_type": "code",
      "execution_count": null,
      "metadata": {
        "id": "u9V2PtXaULye"
      },
      "outputs": [],
      "source": [
        "def countvowelsandconst(word):\n",
        "  vowels=\"aeiouAEIOU\"\n",
        "  const=\"bcdfghjklmnpqrstvwxyzBCDFGHJKLMNPQRSTVWXYZ\"\n",
        "  countv=0\n",
        "  countc=0\n",
        "  for letter in word:\n",
        "    if letter in vowels:\n",
        "      countv=countv+1\n",
        "    if letter in const:\n",
        "      countc=countc+1\n",
        "\n",
        "  return countv, countc\n"
      ]
    },
    {
      "cell_type": "code",
      "source": [
        "word = \"hel w\"\n",
        "countvowelsandconst(word)"
      ],
      "metadata": {
        "colab": {
          "base_uri": "https://localhost:8080/"
        },
        "id": "dEVpA8yCWTpt",
        "outputId": "9d8edb4e-6723-4104-afae-9bba1b0ebd55"
      },
      "execution_count": null,
      "outputs": [
        {
          "output_type": "execute_result",
          "data": {
            "text/plain": [
              "(1, 3)"
            ]
          },
          "metadata": {},
          "execution_count": 21
        }
      ]
    },
    {
      "cell_type": "markdown",
      "source": [
        "Q2) Matrix multiplication"
      ],
      "metadata": {
        "id": "Nu_VaZyUvCut"
      }
    },
    {
      "cell_type": "code",
      "source": [
        "def matrixmul(m1, m2):\n",
        "    result = []\n",
        "    if len(m1[0]) != len(m2):\n",
        "        print(\"Matrix multiplication is not possible\")\n",
        "        return None\n",
        "    for i in range(len(m1)):\n",
        "        row = []\n",
        "        for j in range(len(m2[0])):\n",
        "            e = 0\n",
        "            for k in range(len(m2)):\n",
        "                e += m1[i][k] * m2[k][j]\n",
        "            row.append(e)\n",
        "        result.append(row)\n",
        "    return result"
      ],
      "metadata": {
        "id": "Ca5hNmp2IwEy"
      },
      "execution_count": null,
      "outputs": []
    },
    {
      "cell_type": "code",
      "source": [
        "m1=[[1],[2]]\n",
        "m2=[[1,2],[3,4]]\n",
        "matrixmul(m1,m2)"
      ],
      "metadata": {
        "colab": {
          "base_uri": "https://localhost:8080/"
        },
        "id": "Y56QV_hKKisQ",
        "outputId": "0c282528-5b3c-4a78-a3b4-a3d5e7454ea5"
      },
      "execution_count": null,
      "outputs": [
        {
          "output_type": "stream",
          "name": "stdout",
          "text": [
            "Matrix multiplication is not possible\n"
          ]
        }
      ]
    },
    {
      "cell_type": "code",
      "source": [
        "m1=[[1,2],[3,4]]\n",
        "m2=[[1,2],[3,4]]\n",
        "matrixmul(m1,m2)"
      ],
      "metadata": {
        "id": "x7BjpsINRkJx",
        "outputId": "068863c4-6173-4082-c81c-a22aba7cdab1",
        "colab": {
          "base_uri": "https://localhost:8080/"
        }
      },
      "execution_count": null,
      "outputs": [
        {
          "output_type": "execute_result",
          "data": {
            "text/plain": [
              "[[7, 10], [15, 22]]"
            ]
          },
          "metadata": {},
          "execution_count": 19
        }
      ]
    },
    {
      "cell_type": "markdown",
      "source": [
        "Q3) Common elements in list"
      ],
      "metadata": {
        "id": "F5ZVMSuivJ6a"
      }
    },
    {
      "cell_type": "code",
      "source": [
        "def commonele(l1,l2):\n",
        "  c=0\n",
        "  for e in l1 and l2:\n",
        "    if e in l1 and l2:\n",
        "     c=c+1\n",
        "  return c\n"
      ],
      "metadata": {
        "id": "647kN68Vvx0W"
      },
      "execution_count": null,
      "outputs": []
    },
    {
      "cell_type": "code",
      "source": [
        "l1=[12,2,3,4,5,6]\n",
        "l2=[1,2,3,4,5,6]\n",
        "print(\"Common elements is/are\")\n",
        "commonele(l1,l2)"
      ],
      "metadata": {
        "colab": {
          "base_uri": "https://localhost:8080/"
        },
        "id": "s50rSI3BwCWJ",
        "outputId": "003b530d-d94a-4e37-fbf7-c3c1a2f4ab92"
      },
      "execution_count": null,
      "outputs": [
        {
          "output_type": "stream",
          "name": "stdout",
          "text": [
            "Common elements are\n"
          ]
        },
        {
          "output_type": "execute_result",
          "data": {
            "text/plain": [
              "5"
            ]
          },
          "metadata": {},
          "execution_count": 7
        }
      ]
    },
    {
      "cell_type": "markdown",
      "source": [
        "Q4) Transpose of Matrix"
      ],
      "metadata": {
        "id": "v_aak47_wsXY"
      }
    },
    {
      "cell_type": "code",
      "source": [
        "def transpose(m):\n",
        "  t=[]\n",
        "  for i in range(len(m[0])):\n",
        "    row=[]\n",
        "    for j in range(len(m)):\n",
        "      row.append(m[j][i])\n",
        "    t.append(row)\n",
        "  return t\n"
      ],
      "metadata": {
        "id": "Ov4VOHhRwx-0"
      },
      "execution_count": null,
      "outputs": []
    },
    {
      "cell_type": "code",
      "source": [
        "matrix = [\n",
        "    [1, 2, 3],\n",
        "    [4, 5, 6],\n",
        "    [7, 8, 9]\n",
        "]\n",
        "transpose(matrix)"
      ],
      "metadata": {
        "colab": {
          "base_uri": "https://localhost:8080/"
        },
        "id": "jX1OTVmozWlp",
        "outputId": "6ec044a3-3e39-41f4-ee78-26b52908a1cf"
      },
      "execution_count": null,
      "outputs": [
        {
          "output_type": "execute_result",
          "data": {
            "text/plain": [
              "[[1, 4, 7], [2, 5, 8], [3, 6, 9]]"
            ]
          },
          "metadata": {},
          "execution_count": 11
        }
      ]
    }
  ]
}