{
  "nbformat": 4,
  "nbformat_minor": 0,
  "metadata": {
    "colab": {
      "provenance": []
    },
    "kernelspec": {
      "name": "python3",
      "display_name": "Python 3"
    },
    "language_info": {
      "name": "python"
    }
  },
  "cells": [
    {
      "cell_type": "markdown",
      "source": [
        "Q1) Vowels and Constants count"
      ],
      "metadata": {
        "id": "0jkkIxQJtt-b"
      }
    },
    {
      "cell_type": "code",
      "execution_count": null,
      "metadata": {
        "id": "u9V2PtXaULye"
      },
      "outputs": [],
      "source": [
        "def countvowelsandconst(word):\n",
        "  vowels=\"aeiouAEIOU\"\n",
        "  const=\"bcdfghjklmnpqrstvwxyzBCDFGHJKLMNPQRSTVWXYZ\"\n",
        "  countv=0\n",
        "  countc=0\n",
        "  for letter in word:\n",
        "    if letter in vowels:\n",
        "      countv=countv+1\n",
        "    if letter in const:\n",
        "      countc=countc+1\n",
        "\n",
        "  return countv, countc\n"
      ]
    },
    {
      "cell_type": "code",
      "source": [
        "word = \"hel w\"\n",
        "countvowelsandconst(word)"
      ],
      "metadata": {
        "colab": {
          "base_uri": "https://localhost:8080/"
        },
        "id": "dEVpA8yCWTpt",
        "outputId": "9d8edb4e-6723-4104-afae-9bba1b0ebd55"
      },
      "execution_count": null,
      "outputs": [
        {
          "output_type": "execute_result",
          "data": {
            "text/plain": [
              "(1, 3)"
            ]
          },
          "metadata": {},
          "execution_count": 21
        }
      ]
    }
  ]
}