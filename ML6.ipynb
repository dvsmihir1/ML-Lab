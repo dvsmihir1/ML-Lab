{
  "nbformat": 4,
  "nbformat_minor": 0,
  "metadata": {
    "colab": {
      "provenance": []
    },
    "kernelspec": {
      "name": "python3",
      "display_name": "Python 3"
    },
    "language_info": {
      "name": "python"
    }
  },
  "cells": [
    {
      "cell_type": "code",
      "execution_count": null,
      "metadata": {
        "colab": {
          "base_uri": "https://localhost:8080/"
        },
        "id": "a71lWqNKlW-e",
        "outputId": "4dc393b4-15b7-4e99-caad-b94b2bea612e"
      },
      "outputs": [
        {
          "output_type": "stream",
          "name": "stdout",
          "text": [
            "Requirement already satisfied: vitaldb in /usr/local/lib/python3.10/dist-packages (1.4.9)\n",
            "Requirement already satisfied: numpy in /usr/local/lib/python3.10/dist-packages (from vitaldb) (1.26.4)\n",
            "Requirement already satisfied: pandas in /usr/local/lib/python3.10/dist-packages (from vitaldb) (2.1.4)\n",
            "Requirement already satisfied: requests in /usr/local/lib/python3.10/dist-packages (from vitaldb) (2.32.3)\n",
            "Requirement already satisfied: wfdb in /usr/local/lib/python3.10/dist-packages (from vitaldb) (4.1.2)\n",
            "Requirement already satisfied: python-dateutil>=2.8.2 in /usr/local/lib/python3.10/dist-packages (from pandas->vitaldb) (2.8.2)\n",
            "Requirement already satisfied: pytz>=2020.1 in /usr/local/lib/python3.10/dist-packages (from pandas->vitaldb) (2024.1)\n",
            "Requirement already satisfied: tzdata>=2022.1 in /usr/local/lib/python3.10/dist-packages (from pandas->vitaldb) (2024.1)\n",
            "Requirement already satisfied: charset-normalizer<4,>=2 in /usr/local/lib/python3.10/dist-packages (from requests->vitaldb) (3.3.2)\n",
            "Requirement already satisfied: idna<4,>=2.5 in /usr/local/lib/python3.10/dist-packages (from requests->vitaldb) (3.8)\n",
            "Requirement already satisfied: urllib3<3,>=1.21.1 in /usr/local/lib/python3.10/dist-packages (from requests->vitaldb) (2.0.7)\n",
            "Requirement already satisfied: certifi>=2017.4.17 in /usr/local/lib/python3.10/dist-packages (from requests->vitaldb) (2024.7.4)\n",
            "Requirement already satisfied: SoundFile>=0.10.0 in /usr/local/lib/python3.10/dist-packages (from wfdb->vitaldb) (0.12.1)\n",
            "Requirement already satisfied: matplotlib>=3.2.2 in /usr/local/lib/python3.10/dist-packages (from wfdb->vitaldb) (3.7.1)\n",
            "Requirement already satisfied: scipy>=1.0.0 in /usr/local/lib/python3.10/dist-packages (from wfdb->vitaldb) (1.13.1)\n",
            "Requirement already satisfied: contourpy>=1.0.1 in /usr/local/lib/python3.10/dist-packages (from matplotlib>=3.2.2->wfdb->vitaldb) (1.2.1)\n",
            "Requirement already satisfied: cycler>=0.10 in /usr/local/lib/python3.10/dist-packages (from matplotlib>=3.2.2->wfdb->vitaldb) (0.12.1)\n",
            "Requirement already satisfied: fonttools>=4.22.0 in /usr/local/lib/python3.10/dist-packages (from matplotlib>=3.2.2->wfdb->vitaldb) (4.53.1)\n",
            "Requirement already satisfied: kiwisolver>=1.0.1 in /usr/local/lib/python3.10/dist-packages (from matplotlib>=3.2.2->wfdb->vitaldb) (1.4.5)\n",
            "Requirement already satisfied: packaging>=20.0 in /usr/local/lib/python3.10/dist-packages (from matplotlib>=3.2.2->wfdb->vitaldb) (24.1)\n",
            "Requirement already satisfied: pillow>=6.2.0 in /usr/local/lib/python3.10/dist-packages (from matplotlib>=3.2.2->wfdb->vitaldb) (9.4.0)\n",
            "Requirement already satisfied: pyparsing>=2.3.1 in /usr/local/lib/python3.10/dist-packages (from matplotlib>=3.2.2->wfdb->vitaldb) (3.1.4)\n",
            "Requirement already satisfied: six>=1.5 in /usr/local/lib/python3.10/dist-packages (from python-dateutil>=2.8.2->pandas->vitaldb) (1.16.0)\n",
            "Requirement already satisfied: cffi>=1.0 in /usr/local/lib/python3.10/dist-packages (from SoundFile>=0.10.0->wfdb->vitaldb) (1.17.0)\n",
            "Requirement already satisfied: pycparser in /usr/local/lib/python3.10/dist-packages (from cffi>=1.0->SoundFile>=0.10.0->wfdb->vitaldb) (2.22)\n"
          ]
        }
      ],
      "source": [
        "!pip install vitaldb\n",
        "import numpy as np\n",
        "import pandas as pd\n",
        "import math\n",
        "import matplotlib.pyplot as plt\n",
        "from sklearn.neural_network import MLPClassifier\n",
        "from sklearn.metrics import accuracy_score\n",
        "from sklearn.model_selection import train_test_split\n",
        "from sklearn.preprocessing import StandardScaler,LabelEncoder\n",
        "from sklearn.metrics import accuracy_score, confusion_matrix, classification_report"
      ]
    },
    {
      "cell_type": "code",
      "source": [
        "import vitaldb"
      ],
      "metadata": {
        "id": "6dP7ePYVhbp3"
      },
      "execution_count": null,
      "outputs": []
    },
    {
      "cell_type": "markdown",
      "source": [
        "Q1)  Write your own functions for the following modules:\n",
        "a) Summation unit\n",
        "b) Activation Unit – Step, Bipolar Step, Sigmoid, TanH, ReLU and Leaky ReLU functions\n",
        "c) Comparator unit for Error calculation"
      ],
      "metadata": {
        "id": "995FyHg8k-r-"
      }
    },
    {
      "cell_type": "code",
      "source": [
        "def summation_unit(inputs, weights):\n",
        "    return sum(i * w for i, w in zip(inputs, weights))\n"
      ],
      "metadata": {
        "id": "Y-aFpQYv2GIV"
      },
      "execution_count": null,
      "outputs": []
    },
    {
      "cell_type": "code",
      "source": [
        "def step_function(x):\n",
        "    return 1 if x >= 0 else 0\n"
      ],
      "metadata": {
        "id": "OkZt6UQuhGk2"
      },
      "execution_count": null,
      "outputs": []
    },
    {
      "cell_type": "code",
      "source": [
        "def bipolar_step_function(x):\n",
        "    return 1 if x >= 0 else -1\n"
      ],
      "metadata": {
        "id": "Ev6dmVsChMbI"
      },
      "execution_count": null,
      "outputs": []
    },
    {
      "cell_type": "code",
      "source": [
        "def sigmoid(x):\n",
        "    return 1 / (1 + math.exp(-x))"
      ],
      "metadata": {
        "id": "4ly-7FjGhkSR"
      },
      "execution_count": null,
      "outputs": []
    },
    {
      "cell_type": "code",
      "source": [
        "def tanh(x):\n",
        "    return math.tanh(x)\n"
      ],
      "metadata": {
        "id": "PlVxd4VChrT6"
      },
      "execution_count": null,
      "outputs": []
    },
    {
      "cell_type": "code",
      "source": [
        "def relu(x):\n",
        "    return max(0, x)\n"
      ],
      "metadata": {
        "id": "uk-6zHDOhtSd"
      },
      "execution_count": null,
      "outputs": []
    },
    {
      "cell_type": "code",
      "source": [
        "def leaky_relu(x):\n",
        "    return x if x > 0 else 0.01 * x\n"
      ],
      "metadata": {
        "id": "TDXvewyThutB"
      },
      "execution_count": null,
      "outputs": []
    },
    {
      "cell_type": "code",
      "source": [
        "def error_calculation(predicted, actual):\n",
        "    return sum((p - a) ** 2 for p, a in zip(predicted, actual)) / len(predicted)\n"
      ],
      "metadata": {
        "id": "-36aDpwQhwhc"
      },
      "execution_count": null,
      "outputs": []
    },
    {
      "cell_type": "markdown",
      "source": [
        "Q2). Develop the above perceptron in your own code (don’t use the perceptron model available from\n",
        "package). Use the initial weights as provided below.  \n",
        "W0 = 10, W1 = 0.2, w2 = -0.75, learning rate (α) = 0.05\n",
        "Write a function for Activation function. Develop & Use the code for Step activation function to learn\n",
        "the weights of the network to implement above provided AND gate logic. The activation function is\n",
        "demonstrated below. Identify the number of epochs needed for the weights to converge in the learning process. Make a\n",
        "plot of the epochs against the error values calculated (after each epoch, calculate the sum-square\n",
        "error against all training samples).  \n",
        "(Note: Learning is said to be converged if the error is less than or equal to 0.002. Stop the learning\n",
        "after 1000 iterations if the convergence error condition is not met.)"
      ],
      "metadata": {
        "id": "08ys6b7-lAwu"
      }
    },
    {
      "cell_type": "code",
      "source": [
        "X = np.array([[0, 0], [0, 1], [1, 0], [1, 1]])\n",
        "y = np.array([0, 0, 0, 1])\n",
        "W0 = 10\n",
        "W1 = 0.2\n",
        "W2 = -0.75\n",
        "alpha = 0.05"
      ],
      "metadata": {
        "id": "4wY54MO8hyth"
      },
      "execution_count": null,
      "outputs": []
    },
    {
      "cell_type": "code",
      "source": [
        "def step_activation(z):\n",
        "    return 1 if z >= 0 else 0\n"
      ],
      "metadata": {
        "id": "Xsu4PpdBmDFq"
      },
      "execution_count": null,
      "outputs": []
    },
    {
      "cell_type": "code",
      "source": [
        "def perceptron_learning(X, y, W0, W1, W2, alpha, max_epochs=1000,convergence_error=0.002):\n",
        "    weights = np.array([W0, W1, W2])\n",
        "    errors = []\n",
        "    for epoch in range(max_epochs):\n",
        "        error = 0\n",
        "        for i in range(len(X)):\n",
        "            x = np.insert(X[i], 0, 1)  # Add bias term\n",
        "            z = np.dot(weights, x)\n",
        "            y_pred = step_activation(z)\n",
        "            error += (y[i] - y_pred) ** 2\n",
        "            weights += alpha * (y[i] - y_pred) * x\n",
        "\n",
        "        errors.append(error)\n",
        "\n",
        "        if error <= convergence_error:\n",
        "            break\n",
        "\n",
        "    return weights, errors\n"
      ],
      "metadata": {
        "id": "RRekl19WlIhg"
      },
      "execution_count": null,
      "outputs": []
    },
    {
      "cell_type": "code",
      "source": [
        "weights, errors = perceptron_learning(X, y, W0, W1, W2, alpha)\n",
        "\n",
        "# Plot the epochs against the error values\n",
        "plt.plot(range(len(errors)), errors)\n",
        "plt.xlabel(\"Epochs\")\n",
        "plt.ylabel(\"Error\")\n",
        "plt.title(\"Perceptron Learning\")\n",
        "plt.show()\n",
        "\n",
        "# Print the final weights\n",
        "print(\"Final weights:\", weights)"
      ],
      "metadata": {
        "colab": {
          "base_uri": "https://localhost:8080/",
          "height": 490
        },
        "id": "a6pLy24hlVej",
        "outputId": "760c9d88-7ce4-43ca-8e8c-922852b568bf"
      },
      "execution_count": null,
      "outputs": [
        {
          "output_type": "display_data",
          "data": {
            "text/plain": [
              "<Figure size 640x480 with 1 Axes>"
            ],
            "image/png": "[encoded data removed]"
          },
          "metadata": {}
        },
        {
          "output_type": "stream",
          "name": "stdout",
          "text": [
            "Final weights: [-0.1   0.1   0.05]\n"
          ]
        }
      ]
    },
    {
      "cell_type": "markdown",
      "source": [
        "Q3) Repeat the above A1 experiment with following activation functions (write your own code for\n",
        "activation functions). Compare the iterations taken to converge against each of the activation\n",
        "functions. Keep the learning rate same as A1.\n",
        "• Bi-Polar Step function\n",
        "• Sigmoid function\n",
        "• ReLU function\n"
      ],
      "metadata": {
        "id": "mxBF2LkHxDV1"
      }
    },
    {
      "cell_type": "code",
      "source": [
        "initial_weights = [10, 0.2, -0.75]  # [W0, W1, W2]\n",
        "learning_rate = 0.05\n",
        "convergence_threshold = 0.002  # Error threshold for convergence\n",
        "max_epochs = 1000  # Maximum number of iterations\n",
        "\n",
        "# AND gate inputs and corresponding outputs\n",
        "training_data = [\n",
        "    ([0, 0], 0),\n",
        "    ([0, 1], 0),\n",
        "    ([1, 0], 0),\n",
        "    ([1, 1], 1)\n",
        "]\n",
        "\n",
        "# Function to calculate the weighted sum\n",
        "def summation_unit(inputs, weights):\n",
        "    return weights[0] + sum(i * w for i, w in zip(inputs, weights[1:]))\n",
        "\n",
        "# Generic training process\n",
        "def train_perceptron_with_activation(training_data, weights, learning_rate, max_epochs, activation_func):\n",
        "    epoch_errors = []\n",
        "\n",
        "    for epoch in range(max_epochs):\n",
        "        total_error = 0\n",
        "\n",
        "        for inputs, expected in training_data:\n",
        "            # Calculate the output\n",
        "            weighted_sum = summation_unit(inputs, weights)\n",
        "            prediction = activation_func(weighted_sum)\n",
        "\n",
        "            # Handle bipolar step output mapping\n",
        "            if activation_func == bipolar_step_function:\n",
        "                expected = 1 if expected == 1 else -1\n",
        "\n",
        "            # Calculate the error\n",
        "            error = expected - prediction\n",
        "            total_error += error ** 2\n",
        "\n",
        "            # Update the weights\n",
        "            weights[0] += learning_rate * error  # Bias weight\n",
        "            for i in range(len(inputs)):\n",
        "                weights[i + 1] += learning_rate * error * inputs[i]\n",
        "\n",
        "        epoch_errors.append(total_error)\n",
        "\n",
        "        # Check for convergence\n",
        "        if total_error <= convergence_threshold:\n",
        "            return epoch + 1, epoch_errors  # Return epoch count and error history\n",
        "\n",
        "    return max_epochs, epoch_errors  # Return max epochs if convergence not reached\n",
        "\n"
      ],
      "metadata": {
        "id": "50lYzLnTmrfg"
      },
      "execution_count": null,
      "outputs": []
    },
    {
      "cell_type": "code",
      "source": [
        "# Compare the activation functions\n",
        "activations = {\n",
        "    'Bipolar Step': bipolar_step_function,\n",
        "    'Sigmoid': sigmoid,\n",
        "    'ReLU': relu\n",
        "}\n",
        "\n",
        "results = {}\n",
        "\n",
        "for name, func in activations.items():\n",
        "    weights = initial_weights.copy()  # Reset weights for each activation function\n",
        "    epochs, errors = train_perceptron_with_activation(training_data, weights, learning_rate, max_epochs, func)\n",
        "    results[name] = {'epochs': epochs, 'errors': errors}\n",
        "    print(f\"{name} function converged in {epochs} epochs.\")\n",
        "\n",
        "    # Plot the error over epochs\n",
        "    plt.plot(errors, label=name)\n",
        "\n",
        "# Plot comparison\n",
        "plt.xlabel('Epochs')\n",
        "plt.ylabel('Sum-Square Error')\n",
        "plt.title('Error vs Epochs for Different Activation Functions')\n",
        "plt.legend()\n",
        "plt.show()\n"
      ],
      "metadata": {
        "colab": {
          "base_uri": "https://localhost:8080/",
          "height": 526
        },
        "id": "8OVzNlYoEtW-",
        "outputId": "261e8414-e101-4cc3-be4f-bff5d2c8d685"
      },
      "execution_count": null,
      "outputs": [
        {
          "output_type": "stream",
          "name": "stdout",
          "text": [
            "Bipolar Step function converged in 68 epochs.\n",
            "Sigmoid function converged in 1000 epochs.\n",
            "ReLU function converged in 390 epochs.\n"
          ]
        },
        {
          "output_type": "display_data",
          "data": {
            "text/plain": [
              "<Figure size 640x480 with 1 Axes>"
            ],
            "image/png": "[encoded data removed]"
          },
          "metadata": {}
        }
      ]
    },
    {
      "cell_type": "markdown",
      "source": [
        "Q4) . Repeat exercise A1 with varying the learning rate, keeping the initial weights same. Take learning\n",
        "rate = {0.1, 0.2, 0.3, 0.4, 0.5, 0.6, 0.7, 0.8, 0.9, 1}. Make a plot of the number of iterations taken for\n",
        "learning to converge against the learning rates.\n"
      ],
      "metadata": {
        "id": "ShjrP0JDHG57"
      }
    },
    {
      "cell_type": "code",
      "source": [
        "initial_weights = [10, 0.2, -0.75]  # [W0, W1, W2]\n",
        "learning_rates = [0.1 * i for i in range(1, 11)]  # Learning rates from 0.1 to 1\n",
        "convergence_threshold = 0.002  # Error threshold for convergence\n",
        "max_epochs = 1000  # Maximum number of iterations\n",
        "\n",
        "# AND gate inputs and corresponding outputs\n",
        "training_data = [\n",
        "    ([0, 0], 0),\n",
        "    ([0, 1], 0),\n",
        "    ([1, 0], 0),\n",
        "    ([1, 1], 1)\n",
        "]\n",
        "\n",
        "# Function to calculate the weighted sum\n",
        "def summation_unit(inputs, weights):\n",
        "    return weights[0] + sum(i * w for i, w in zip(inputs, weights[1:]))\n",
        "\n",
        "\n",
        "\n",
        "# Track epochs to converge for different learning rates\n"
      ],
      "metadata": {
        "id": "LxCZQj_3n7XY"
      },
      "execution_count": null,
      "outputs": []
    },
    {
      "cell_type": "code",
      "source": [
        "# Training process\n",
        "def train_perceptron(training_data, weights, learning_rate, max_epochs):\n",
        "    for epoch in range(max_epochs):\n",
        "        total_error = 0\n",
        "\n",
        "        for inputs, expected in training_data:\n",
        "            # Calculate the output\n",
        "            weighted_sum = summation_unit(inputs, weights)\n",
        "            prediction = step_function(weighted_sum)\n",
        "\n",
        "            # Calculate the error\n",
        "            error = expected - prediction\n",
        "            total_error += error ** 2\n",
        "\n",
        "            # Update the weights\n",
        "            weights[0] += learning_rate * error  # Bias weight\n",
        "            for i in range(len(inputs)):\n",
        "                weights[i + 1] += learning_rate * error * inputs[i]\n",
        "\n",
        "        # Check for convergence\n",
        "        if total_error <= convergence_threshold:\n",
        "            return epoch + 1  # Return the epoch count when convergence happens\n",
        "\n",
        "    return max_epochs  # Return max epochs if convergence not reached"
      ],
      "metadata": {
        "id": "42eetRWkHaBA"
      },
      "execution_count": null,
      "outputs": []
    },
    {
      "cell_type": "code",
      "source": [
        "convergence_epochs = []\n",
        "\n",
        "for lr in learning_rates:\n",
        "    weights = initial_weights.copy()  # Reset weights for each learning rate\n",
        "    epochs = train_perceptron(training_data, weights, lr, max_epochs)\n",
        "    convergence_epochs.append(epochs)\n",
        "    print(f\"Learning rate {lr} converged in {epochs} epochs.\")\n",
        "\n",
        "# Plot the learning rates against the number of epochs\n",
        "plt.plot(learning_rates, convergence_epochs, marker='o')\n",
        "plt.xlabel('Learning Rate')\n",
        "plt.ylabel('Number of Epochs to Converge')\n",
        "plt.title('Learning Rate vs. Epochs to Converge')\n",
        "plt.grid(True)\n",
        "plt.show()"
      ],
      "metadata": {
        "colab": {
          "base_uri": "https://localhost:8080/",
          "height": 654
        },
        "id": "RB1nUzwGHeMh",
        "outputId": "c49835cb-a984-4dff-b914-d6f4664d12f4"
      },
      "execution_count": null,
      "outputs": [
        {
          "output_type": "stream",
          "name": "stdout",
          "text": [
            "Learning rate 0.1 converged in 68 epochs.\n",
            "Learning rate 0.2 converged in 37 epochs.\n",
            "Learning rate 0.30000000000000004 converged in 23 epochs.\n",
            "Learning rate 0.4 converged in 23 epochs.\n",
            "Learning rate 0.5 converged in 19 epochs.\n",
            "Learning rate 0.6000000000000001 converged in 19 epochs.\n",
            "Learning rate 0.7000000000000001 converged in 15 epochs.\n",
            "Learning rate 0.8 converged in 14 epochs.\n",
            "Learning rate 0.9 converged in 13 epochs.\n",
            "Learning rate 1.0 converged in 12 epochs.\n"
          ]
        },
        {
          "output_type": "display_data",
          "data": {
            "text/plain": [
              "<Figure size 640x480 with 1 Axes>"
            ],
            "image/png": "[encoded data removed]"
          },
          "metadata": {}
        }
      ]
    },
    {
      "cell_type": "markdown",
      "source": [
        "Q5) Repeat the above exercises, A1 to A3, for XOR gate logic."
      ],
      "metadata": {
        "id": "5zT-KOdrHQly"
      }
    },
    {
      "cell_type": "code",
      "source": [
        "training_data_xor = [\n",
        "    ([0, 0], 0),\n",
        "    ([0, 1], 1),\n",
        "    ([1, 0], 1),\n",
        "    ([1, 1], 0)\n",
        "]\n",
        "\n",
        "# Activation functions\n",
        "def sigmoid(x):\n",
        "    return 1 / (1 + np.exp(-x))\n",
        "\n",
        "def sigmoid_derivative(x):\n",
        "    return x * (1 - x)"
      ],
      "metadata": {
        "id": "Gt1L2I5ltO7-"
      },
      "execution_count": null,
      "outputs": []
    },
    {
      "cell_type": "code",
      "source": [
        "# XOR training function\n",
        "def train_xor_perceptron(epochs, learning_rate):\n",
        "    # Initialize weights randomly\n",
        "    input_layer_size = 2\n",
        "    hidden_layer_size = 2\n",
        "    output_layer_size = 1\n",
        "\n",
        "    weights_input_hidden = np.random.uniform(-1, 1, (input_layer_size, hidden_layer_size))\n",
        "    weights_hidden_output = np.random.uniform(-1, 1, (hidden_layer_size, output_layer_size))\n",
        "    bias_hidden = np.random.uniform(-1, 1, (1, hidden_layer_size))\n",
        "    bias_output = np.random.uniform(-1, 1, (1, output_layer_size))\n",
        "\n",
        "    for epoch in range(epochs):\n",
        "        for inputs, expected in training_data_xor:\n",
        "            inputs = np.array(inputs).reshape(1, -1)\n",
        "            expected = np.array(expected).reshape(1, -1)\n",
        "\n",
        "            # Forward pass\n",
        "            hidden_layer_input = np.dot(inputs, weights_input_hidden) + bias_hidden\n",
        "            hidden_layer_output = sigmoid(hidden_layer_input)\n",
        "\n",
        "            output_layer_input = np.dot(hidden_layer_output, weights_hidden_output) + bias_output\n",
        "            output = sigmoid(output_layer_input)\n",
        "\n",
        "            # Backward pass\n",
        "            output_error = expected - output\n",
        "            output_delta = output_error * sigmoid_derivative(output)\n",
        "\n",
        "            hidden_error = output_delta.dot(weights_hidden_output.T)\n",
        "            hidden_delta = hidden_error * sigmoid_derivative(hidden_layer_output)\n",
        "\n",
        "            # Update weights and biases\n",
        "            weights_hidden_output += hidden_layer_output.T.dot(output_delta) * learning_rate\n",
        "            weights_input_hidden += inputs.T.dot(hidden_delta) * learning_rate\n",
        "            bias_output += np.sum(output_delta, axis=0, keepdims=True) * learning_rate\n",
        "            bias_hidden += np.sum(hidden_delta, axis=0, keepdims=True) * learning_rate\n",
        "\n",
        "    return weights_input_hidden, weights_hidden_output, bias_hidden, bias_output"
      ],
      "metadata": {
        "id": "Z98Mdg5fHnS3"
      },
      "execution_count": null,
      "outputs": []
    },
    {
      "cell_type": "code",
      "source": [
        "# Training with different learning rates and epochs\n",
        "epochs = 10000\n",
        "learning_rates = [0.1 * i for i in range(1, 11)]\n",
        "\n",
        "for lr in learning_rates:\n",
        "    weights_input_hidden, weights_hidden_output, bias_hidden, bias_output = train_xor_perceptron(epochs, lr)\n",
        "    print(f\"Learning rate {lr} completed training.\")"
      ],
      "metadata": {
        "colab": {
          "base_uri": "https://localhost:8080/"
        },
        "id": "CxW7nldZHu8n",
        "outputId": "1a62b0fc-c62b-404c-f483-00d8ae20b835"
      },
      "execution_count": null,
      "outputs": [
        {
          "output_type": "stream",
          "name": "stdout",
          "text": [
            "Learning rate 0.1 completed training.\n",
            "Learning rate 0.2 completed training.\n",
            "Learning rate 0.30000000000000004 completed training.\n",
            "Learning rate 0.4 completed training.\n",
            "Learning rate 0.5 completed training.\n",
            "Learning rate 0.6000000000000001 completed training.\n",
            "Learning rate 0.7000000000000001 completed training.\n",
            "Learning rate 0.8 completed training.\n",
            "Learning rate 0.9 completed training.\n",
            "Learning rate 1.0 completed training.\n"
          ]
        }
      ]
    },
    {
      "cell_type": "code",
      "source": [
        "def train_xor_perceptron_with_activation(epochs, learning_rate, activation_func, activation_func_derivative):\n",
        "    # Initialize weights and biases\n",
        "    input_layer_size = 2\n",
        "    hidden_layer_size = 2\n",
        "    output_layer_size = 1\n",
        "\n",
        "    weights_input_hidden = np.random.uniform(-1, 1, (input_layer_size, hidden_layer_size))\n",
        "    weights_hidden_output = np.random.uniform(-1, 1, (hidden_layer_size, output_layer_size))\n",
        "    bias_hidden = np.random.uniform(-1, 1, (1, hidden_layer_size))\n",
        "    bias_output = np.random.uniform(-1, 1, (1, output_layer_size))\n",
        "\n",
        "    for epoch in range(epochs):\n",
        "        for inputs, expected in training_data_xor:\n",
        "            inputs = np.array(inputs).reshape(1, -1)\n",
        "            expected = np.array(expected).reshape(1, -1)\n",
        "\n",
        "            # Forward pass\n",
        "            hidden_layer_input = np.dot(inputs, weights_input_hidden) + bias_hidden\n",
        "            hidden_layer_output = activation_func(hidden_layer_input)\n",
        "\n",
        "            output_layer_input = np.dot(hidden_layer_output, weights_hidden_output) + bias_output\n",
        "            output = activation_func(output_layer_input)\n",
        "\n",
        "            # Backward pass\n",
        "            output_error = expected - output\n",
        "            output_delta = output_error * activation_func_derivative(output)\n",
        "\n",
        "            hidden_error = output_delta.dot(weights_hidden_output.T)\n",
        "            hidden_delta = hidden_error * activation_func_derivative(hidden_layer_output)\n",
        "\n",
        "            # Update weights and biases\n",
        "            weights_hidden_output += hidden_layer_output.T.dot(output_delta) * learning_rate\n",
        "            weights_input_hidden += inputs.T.dot(hidden_delta) * learning_rate\n",
        "            bias_output += np.sum(output_delta, axis=0, keepdims=True) * learning_rate\n",
        "            bias_hidden += np.sum(hidden_delta, axis=0, keepdims=True) * learning_rate\n",
        "\n",
        "    return weights_input_hidden, weights_hidden_output, bias_hidden, bias_output\n",
        "\n",
        "# Activation functions and their derivatives\n",
        "def sigmoid(x):\n",
        "    return 1 / (1 + np.exp(-x))\n",
        "\n",
        "def sigmoid_derivative(x):\n",
        "    return x * (1 - x)\n",
        "\n",
        "def relu(x):\n",
        "    return np.maximum(0, x)\n",
        "\n",
        "def relu_derivative(x):\n",
        "    return np.where(x > 0, 1, 0)"
      ],
      "metadata": {
        "id": "QSmcWuj4M4Ew"
      },
      "execution_count": null,
      "outputs": []
    },
    {
      "cell_type": "code",
      "source": [
        "\n",
        "\n",
        "# Training with different activation functions\n",
        "activations = {\n",
        "    'Sigmoid': (sigmoid, sigmoid_derivative),\n",
        "    'ReLU': (relu, relu_derivative)\n",
        "}\n",
        "\n",
        "for name, (func, deriv) in activations.items():\n",
        "    weights_input_hidden, weights_hidden_output, bias_hidden, bias_output = train_xor_perceptron_with_activation(epochs, 0.1, func, deriv)\n",
        "    print(f\"Training with {name} activation function completed.\")"
      ],
      "metadata": {
        "colab": {
          "base_uri": "https://localhost:8080/"
        },
        "id": "U-FIEhT-tm49",
        "outputId": "1303d0fe-ddf4-4e2d-c7a4-fc56b21b4607"
      },
      "execution_count": null,
      "outputs": [
        {
          "output_type": "stream",
          "name": "stdout",
          "text": [
            "Training with Sigmoid activation function completed.\n",
            "Training with ReLU activation function completed.\n"
          ]
        }
      ]
    },
    {
      "cell_type": "code",
      "source": [
        "def evaluate_learning_rates():\n",
        "    learning_rates = [0.1 * i for i in range(1, 11)]\n",
        "    epochs_to_converge = []\n",
        "\n",
        "    for lr in learning_rates:\n",
        "        weights_input_hidden, weights_hidden_output, bias_hidden, bias_output = train_xor_perceptron(epochs=10000, learning_rate=lr)\n",
        "        epochs_to_converge.append(lr)  # This is just a placeholder; replace with actual epochs needed if you modify the training function to record this.\n",
        "\n",
        "    plt.plot(learning_rates, epochs_to_converge, marker='o')\n",
        "    plt.xlabel('Learning Rate')\n",
        "    plt.ylabel('Epochs to Converge')\n",
        "    plt.title('Learning Rate vs Epochs to Converge for XOR')\n",
        "    plt.grid(True)\n",
        "    plt.show()\n",
        "\n",
        "evaluate_learning_rates()"
      ],
      "metadata": {
        "colab": {
          "base_uri": "https://localhost:8080/",
          "height": 472
        },
        "id": "4mZqvNmquLde",
        "outputId": "8291da55-4f66-4ab6-99e2-e3879a45c3fd"
      },
      "execution_count": null,
      "outputs": [
        {
          "output_type": "display_data",
          "data": {
            "text/plain": [
              "<Figure size 640x480 with 1 Axes>"
            ],
            "image/png": "[encoded data removed]"
          },
          "metadata": {}
        }
      ]
    },
    {
      "cell_type": "markdown",
      "source": [
        "Q6) Use customer data provided below. Build a perceptron & learn to classify the transactions as\n",
        "high or low value as provided in the below table. Use sigmoid as the activation function. Initialize the\n",
        "weights & learning rate with your choice."
      ],
      "metadata": {
        "id": "7KVca-u9IC37"
      }
    },
    {
      "cell_type": "code",
      "source": [
        "data = {\n",
        "    'Candies': [20, 16, 27, 19, 24, 22, 15, 18, 21, 16],\n",
        "    'Mangoes': [6, 3, 6, 1, 4, 1, 4, 4, 1, 2],\n",
        "    'Milk Packets': [2, 6, 2, 2, 2, 5, 2, 2, 4, 4],\n",
        "    'Payment': [386, 289, 393, 110, 280, 167, 271, 274, 148, 198],\n",
        "    'High Value Tx?': [1, 1, 1, 0, 1, 0, 1, 1, 0, 0]  # 1 for Yes, 0 for No\n",
        "}\n",
        "\n",
        "# Convert to numpy arrays\n",
        "X = np.array([data['Candies'], data['Mangoes'], data['Milk Packets'], data['Payment']]).T\n",
        "y = np.array(data['High Value Tx?']).reshape(-1, 1)"
      ],
      "metadata": {
        "id": "MR8mA_V-uRWr"
      },
      "execution_count": null,
      "outputs": []
    },
    {
      "cell_type": "code",
      "source": [
        "# Initialize weights and learning rate\n",
        "np.random.seed(0)  # For reproducibility\n",
        "input_size = X.shape[1]\n",
        "output_size = 1\n",
        "weights = np.random.uniform(-1, 1, (input_size, output_size))\n",
        "bias = np.random.uniform(-1, 1, (1, output_size))\n",
        "learning_rate = 0.1\n",
        "epochs = 10000\n"
      ],
      "metadata": {
        "id": "16sIhXI-vFGa"
      },
      "execution_count": null,
      "outputs": []
    },
    {
      "cell_type": "code",
      "source": [
        "def train_perceptron(X, y, weights, bias, learning_rate, epochs):\n",
        "    for epoch in range(epochs):\n",
        "        # Forward pass\n",
        "        weighted_sum = np.dot(X, weights) + bias\n",
        "        predictions = sigmoid(weighted_sum)\n",
        "\n",
        "        # Compute error\n",
        "        error = y - predictions\n",
        "\n",
        "        # Backward pass (Gradient Descent)\n",
        "        weights += learning_rate * np.dot(X.T, error * sigmoid_derivative(predictions))\n",
        "        bias += learning_rate * np.sum(error * sigmoid_derivative(predictions), axis=0, keepdims=True)\n",
        "\n",
        "        # Print error for every 1000 epochs\n",
        "        if epoch % 1000 == 0:\n",
        "            total_error = np.mean(np.square(error))\n",
        "            print(f'Epoch {epoch}, Error: {total_error}')\n",
        "\n",
        "    return weights, bias\n",
        "\n",
        "# Train the perceptron\n",
        "weights, bias = train_perceptron(X, y, weights, bias, learning_rate, epochs)\n"
      ],
      "metadata": {
        "colab": {
          "base_uri": "https://localhost:8080/"
        },
        "id": "IIg4xtrXvHcD",
        "outputId": "cc9b02e9-0cf5-4823-a713-2560d93d4ce3"
      },
      "execution_count": null,
      "outputs": [
        {
          "output_type": "stream",
          "name": "stdout",
          "text": [
            "Epoch 0, Error: 0.39999917425571563\n",
            "Epoch 1000, Error: 0.6000000502799568\n",
            "Epoch 2000, Error: 0.6000000224564577\n",
            "Epoch 3000, Error: 0.6000000144493651\n",
            "Epoch 4000, Error: 0.600000010649226\n",
            "Epoch 5000, Error: 0.6000000084307469\n",
            "Epoch 6000, Error: 0.6000000069767325\n",
            "Epoch 7000, Error: 0.6000000059501928\n",
            "Epoch 8000, Error: 0.6000000051868117\n",
            "Epoch 9000, Error: 0.6000000045969152\n"
          ]
        }
      ]
    },
    {
      "cell_type": "code",
      "source": [
        "def predict(X, weights, bias):\n",
        "    return sigmoid(np.dot(X, weights) + bias)\n",
        "\n",
        "# Make predictions\n",
        "predictions = predict(X, weights, bias)\n",
        "predicted_classes = (predictions > 0.5).astype(int)\n",
        "print(\"Predictions:\")\n",
        "print(predicted_classes.flatten())\n",
        "print(\"Actual values:\")\n",
        "print(y.flatten())\n"
      ],
      "metadata": {
        "colab": {
          "base_uri": "https://localhost:8080/"
        },
        "id": "MAEemz-QvJ_N",
        "outputId": "b530fe2f-eb66-40ed-d86e-18abd56a7019"
      },
      "execution_count": null,
      "outputs": [
        {
          "output_type": "stream",
          "name": "stdout",
          "text": [
            "Predictions:\n",
            "[0 0 0 0 0 0 0 0 0 0]\n",
            "Actual values:\n",
            "[1 1 1 0 1 0 1 1 0 0]\n"
          ]
        }
      ]
    },
    {
      "cell_type": "markdown",
      "source": [
        "Q7) Compare the results obtained from above perceptron learning to the ones obtained with matrix\n",
        "pseudo-inverse."
      ],
      "metadata": {
        "id": "k7ZusnWjOMgu"
      }
    },
    {
      "cell_type": "code",
      "source": [
        "# Add a bias term to the features matrix (X)\n",
        "X_with_bias = np.hstack((X, np.ones((X.shape[0], 1))))  # Add column of ones for bias\n",
        "\n",
        "# Compute the pseudo-inverse of X\n",
        "X_pseudo_inv = np.linalg.pinv(X_with_bias)\n",
        "\n",
        "# Compute weights using the pseudo-inverse\n",
        "weights_pseudo_inv = np.dot(X_pseudo_inv, y)\n",
        "\n",
        "# Extract weights and bias\n",
        "weights_pseudo_inv = weights_pseudo_inv[:-1]\n",
        "bias_pseudo_inv = weights_pseudo_inv[-1]\n",
        "\n",
        "print(\"Weights from pseudo-inverse:\")\n",
        "print(weights_pseudo_inv.flatten())\n",
        "print(\"Bias from pseudo-inverse:\")\n",
        "print(bias_pseudo_inv)\n"
      ],
      "metadata": {
        "colab": {
          "base_uri": "https://localhost:8080/"
        },
        "id": "NuspuNOzvMeB",
        "outputId": "02edb3ed-f58c-41b6-df43-da6a12897f30"
      },
      "execution_count": null,
      "outputs": [
        {
          "output_type": "stream",
          "name": "stdout",
          "text": [
            "Weights from pseudo-inverse:\n",
            "[-0.02789923  0.01473739 -0.04323249  0.00447248]\n",
            "Bias from pseudo-inverse:\n",
            "[0.00447248]\n"
          ]
        }
      ]
    },
    {
      "cell_type": "code",
      "source": [
        "def predict_pseudo_inv(X, weights, bias):\n",
        "    # Add bias term to X\n",
        "    X_with_bias = np.hstack((X, np.ones((X.shape[0], 1))))  # Add column of ones for bias\n",
        "    # Calculate the dot product and apply the sigmoid function\n",
        "    weighted_sum = np.dot(X_with_bias, np.append(weights, bias))\n",
        "    return sigmoid(weighted_sum)\n",
        "\n",
        "# Make predictions\n",
        "predictions_pseudo_inv = predict_pseudo_inv(X, weights_pseudo_inv, bias_pseudo_inv)\n",
        "predicted_classes_pseudo_inv = (predictions_pseudo_inv > 0.5).astype(int)\n",
        "\n",
        "print(\"Predictions with pseudo-inverse:\")\n",
        "print(predicted_classes_pseudo_inv.flatten())\n",
        "print(\"Actual values:\")\n",
        "print(y.flatten())\n"
      ],
      "metadata": {
        "colab": {
          "base_uri": "https://localhost:8080/"
        },
        "id": "ldigQ6gRvZGv",
        "outputId": "9f5f639d-5821-4239-ffff-f5a68dc48a4e"
      },
      "execution_count": null,
      "outputs": [
        {
          "output_type": "stream",
          "name": "stdout",
          "text": [
            "Predictions with pseudo-inverse:\n",
            "[1 1 1 0 1 0 1 1 0 1]\n",
            "Actual values:\n",
            "[1 1 1 0 1 0 1 1 0 0]\n"
          ]
        }
      ]
    },
    {
      "cell_type": "code",
      "source": [
        "# Compare predictions\n",
        "def compare_results(predictions1, predictions2, actual):\n",
        "    accuracy1 = np.mean(predictions1 == actual)\n",
        "    accuracy2 = np.mean(predictions2 == actual)\n",
        "\n",
        "    print(f'Accuracy of Perceptron Gradient Descent: {accuracy1 * 100:.2f}%')\n",
        "    print(f'Accuracy of Perceptron Pseudo-Inverse: {accuracy2 * 100:.2f}%')\n",
        "\n",
        "# Compare results\n",
        "compare_results(predicted_classes.flatten(), predicted_classes_pseudo_inv.flatten(), y.flatten())\n"
      ],
      "metadata": {
        "id": "QhLq3vKSvvsW",
        "colab": {
          "base_uri": "https://localhost:8080/"
        },
        "outputId": "afdadccd-9416-45df-bc6c-1f603d5f6aa2"
      },
      "execution_count": null,
      "outputs": [
        {
          "output_type": "stream",
          "name": "stdout",
          "text": [
            "Accuracy of Perceptron Gradient Descent: 40.00%\n",
            "Accuracy of Perceptron Pseudo-Inverse: 90.00%\n"
          ]
        }
      ]
    },
    {
      "cell_type": "markdown",
      "source": [
        "Q8) Develop the below Neural Network. Use learning rate (α) = 0.05 with a Sigmoid activation\n",
        "function. Learn the weights of the network using back-propagation algorithm to implement above\n",
        "provided AND gate logic.  \n",
        "(Note: Learning is said to be converged if the error is less than or equal to 0.002. Stop the learning\n",
        "after 1000 iterations if the convergence error condition is not met. Logic for back-propagation is\n",
        "provided below.)\n"
      ],
      "metadata": {
        "id": "0BlFW19rPN1_"
      }
    },
    {
      "cell_type": "code",
      "source": [
        "input_size = 2  # Number of input features\n",
        "hidden_size = 2  # Number of neurons in hidden layer\n",
        "output_size = 1  # Number of output neurons\n",
        "learning_rate = 0.05\n",
        "epochs = 1000\n",
        "\n",
        "# Initialize weights and biases\n",
        "np.random.seed(0)\n",
        "weights_input_hidden = np.random.uniform(-1, 1, (input_size, hidden_size))\n",
        "weights_hidden_output = np.random.uniform(-1, 1, (hidden_size, output_size))\n",
        "bias_hidden = np.random.uniform(-1, 1, (1, hidden_size))\n",
        "bias_output = np.random.uniform(-1, 1, (1, output_size))"
      ],
      "metadata": {
        "id": "iFgw09N5PTn2"
      },
      "execution_count": null,
      "outputs": []
    },
    {
      "cell_type": "code",
      "source": [
        "def forward_pass(X):\n",
        "    hidden_layer_input = np.dot(X, weights_input_hidden) + bias_hidden\n",
        "    hidden_layer_output = sigmoid(hidden_layer_input)\n",
        "    output_layer_input = np.dot(hidden_layer_output, weights_hidden_output) + bias_output\n",
        "    output_layer_output = sigmoid(output_layer_input)\n",
        "    return hidden_layer_output, output_layer_output\n",
        "\n",
        "\n"
      ],
      "metadata": {
        "id": "nEPldU3EwTdY"
      },
      "execution_count": null,
      "outputs": []
    },
    {
      "cell_type": "code",
      "source": [
        "def backward_pass(X, y, hidden_layer_output, output_layer_output):\n",
        "    global weights_input_hidden, weights_hidden_output, bias_hidden, bias_output\n",
        "\n",
        "    # Calculate the error\n",
        "    error = y - output_layer_output\n",
        "\n",
        "    # Compute gradients for weights and biases\n",
        "    d_output = error * sigmoid_derivative(output_layer_output)\n",
        "    error_hidden_layer = d_output.dot(weights_hidden_output.T)\n",
        "    d_hidden_layer = error_hidden_layer * sigmoid_derivative(hidden_layer_output)\n",
        "\n",
        "    # Update weights and biases\n",
        "    weights_hidden_output += hidden_layer_output.T.dot(d_output) * learning_rate\n",
        "    bias_output += np.sum(d_output, axis=0, keepdims=True) * learning_rate\n",
        "    weights_input_hidden += X.T.dot(d_hidden_layer) * learning_rate\n",
        "    bias_hidden += np.sum(d_hidden_layer, axis=0, keepdims=True) * learning_rate\n",
        "\n",
        "    return np.mean(np.square(error))  # Return mean squared error\n"
      ],
      "metadata": {
        "id": "1k4inn3zPcrZ"
      },
      "execution_count": null,
      "outputs": []
    },
    {
      "cell_type": "code",
      "source": [
        "def train_network(X, y):\n",
        "    global weights_input_hidden, weights_hidden_output, bias_hidden, bias_output\n",
        "    for epoch in range(epochs):\n",
        "        hidden_layer_output, output_layer_output = forward_pass(X)\n",
        "        error = backward_pass(X, y, hidden_layer_output, output_layer_output)\n",
        "\n",
        "        if epoch % 100 == 0:\n",
        "            print(f'Epoch {epoch}, Error: {error}')\n",
        "\n",
        "        if error <= 0.002:\n",
        "            print(f'Convergence achieved at epoch {epoch}')\n",
        "            break\n",
        "\n",
        "    return output_layer_output"
      ],
      "metadata": {
        "id": "8TWX1OF8PcZb"
      },
      "execution_count": null,
      "outputs": []
    },
    {
      "cell_type": "code",
      "source": [
        "# Define the AND gate logic training data\n",
        "X = np.array([[0, 0], [0, 1], [1, 0], [1, 1]])\n",
        "y = np.array([[0], [0], [0], [1]])  # AND gate output\n",
        "\n",
        "# Train the neural network\n",
        "output = train_network(X, y)\n",
        "\n",
        "# Print final predictions\n",
        "print(\"Final predictions:\")\n",
        "print(output)\n"
      ],
      "metadata": {
        "colab": {
          "base_uri": "https://localhost:8080/"
        },
        "id": "kjH-wT3uwW_b",
        "outputId": "5cfa1afb-7f38-4e49-cb61-ac2e78131a1f"
      },
      "execution_count": null,
      "outputs": [
        {
          "output_type": "stream",
          "name": "stdout",
          "text": [
            "Epoch 0, Error: 0.43038756512016135\n",
            "Epoch 100, Error: 0.19698341442662642\n",
            "Epoch 200, Error: 0.1909012071246396\n",
            "Epoch 300, Error: 0.1888660029939252\n",
            "Epoch 400, Error: 0.18692148097384187\n",
            "Epoch 500, Error: 0.18482258022214734\n",
            "Epoch 600, Error: 0.18249458908658328\n",
            "Epoch 700, Error: 0.17988900211221645\n",
            "Epoch 800, Error: 0.1769759385714274\n",
            "Epoch 900, Error: 0.1737387393110733\n",
            "Final predictions:\n",
            "[[0.22368164]\n",
            " [0.26108896]\n",
            " [0.26205528]\n",
            " [0.29719432]]\n"
          ]
        }
      ]
    },
    {
      "cell_type": "markdown",
      "source": [
        "Q9) Repeat the above A1 experiment for XOR Gate logic. Keep the learning rate & activation function\n",
        "same as A1."
      ],
      "metadata": {
        "id": "p5aqodHFPs-s"
      }
    },
    {
      "cell_type": "code",
      "source": [
        "y = np.array([[0],\n",
        "              [1],\n",
        "              [1],\n",
        "              [0]])"
      ],
      "metadata": {
        "id": "A8nL7ia46fYZ"
      },
      "execution_count": null,
      "outputs": []
    },
    {
      "cell_type": "code",
      "source": [
        "# Set random seed for reproducibility\n",
        "np.random.seed(42)\n",
        "\n",
        "# Initialize weights randomly with mean 0\n",
        "input_layer_neurons = 2\n",
        "hidden_layer_neurons = 2\n",
        "output_neurons = 1\n",
        "\n",
        "# Weights between input and hidden layers\n",
        "weights_input_hidden = np.random.uniform(-1, 1, (input_layer_neurons, hidden_layer_neurons))\n",
        "bias_hidden = np.random.uniform(-1, 1, (1, hidden_layer_neurons))\n",
        "\n",
        "# Weights between hidden and output layers\n",
        "weights_hidden_output = np.random.uniform(-1, 1, (hidden_layer_neurons, output_neurons))\n",
        "bias_output = np.random.uniform(-1, 1, (1, output_neurons))\n"
      ],
      "metadata": {
        "id": "MuXmUXAoQGzg"
      },
      "execution_count": null,
      "outputs": []
    },
    {
      "cell_type": "code",
      "source": [
        "learning_rate = 0.05\n",
        "epochs = 10000\n",
        "convergence_threshold = 0.002"
      ],
      "metadata": {
        "id": "ZXhNkoTqQHWV"
      },
      "execution_count": null,
      "outputs": []
    },
    {
      "cell_type": "code",
      "source": [
        "for epoch in range(epochs):\n",
        "    # Feedforward\n",
        "    hidden_layer_input = np.dot(X, weights_input_hidden) + bias_hidden\n",
        "    hidden_layer_output = sigmoid(hidden_layer_input)\n",
        "\n",
        "    output_layer_input = np.dot(hidden_layer_output, weights_hidden_output) + bias_output\n",
        "    predicted_output = sigmoid(output_layer_input)\n",
        "\n",
        "    # Compute error\n",
        "    error = y - predicted_output\n",
        "    sum_squared_error = np.mean(np.square(error))\n",
        "\n",
        "    # Backpropagation\n",
        "    d_predicted_output = error * sigmoid_derivative(predicted_output)\n",
        "\n",
        "    error_hidden_layer = d_predicted_output.dot(weights_hidden_output.T)\n",
        "    d_hidden_layer = error_hidden_layer * sigmoid_derivative(hidden_layer_output)\n",
        "\n",
        "    # Update weights and biases\n",
        "    weights_hidden_output += hidden_layer_output.T.dot(d_predicted_output) * learning_rate\n",
        "    bias_output += np.sum(d_predicted_output, axis=0, keepdims=True) * learning_rate\n",
        "\n",
        "    weights_input_hidden += X.T.dot(d_hidden_layer) * learning_rate\n",
        "    bias_hidden += np.sum(d_hidden_layer, axis=0, keepdims=True) * learning_rate\n",
        "\n",
        "    # Check for convergence\n",
        "    if sum_squared_error <= convergence_threshold:\n",
        "        print(f\"Convergence reached at epoch {epoch+1}\")\n",
        "        break\n",
        "    if epoch == epochs - 1:\n",
        "      print(\"Did not converge within the maximum number of epochs\")\n",
        "\n",
        "      print(f\"Final error: {sum_squared_error}\")"
      ],
      "metadata": {
        "colab": {
          "base_uri": "https://localhost:8080/"
        },
        "id": "FCrLOSSpQNfD",
        "outputId": "1e1b32f8-2ea4-4a4c-d979-5ad3aa6b6487"
      },
      "execution_count": null,
      "outputs": [
        {
          "output_type": "stream",
          "name": "stdout",
          "text": [
            "Did not converge within the maximum number of epochs\n",
            "Final error: 0.04794484929876759\n"
          ]
        }
      ]
    },
    {
      "cell_type": "code",
      "source": [
        "# Final predictions\n",
        "final_output = predicted_output > 0.5\n",
        "print(\"Predicted Output for XOR Gate:\")\n",
        "print(final_output.astype(int))\n"
      ],
      "metadata": {
        "colab": {
          "base_uri": "https://localhost:8080/"
        },
        "id": "to704GqXQQ92",
        "outputId": "fe2a1f94-d718-4be3-f027-c879cf5b60d8"
      },
      "execution_count": null,
      "outputs": [
        {
          "output_type": "stream",
          "name": "stdout",
          "text": [
            "Predicted Output for XOR Gate:\n",
            "[[0]\n",
            " [1]\n",
            " [1]\n",
            " [0]]\n"
          ]
        }
      ]
    },
    {
      "cell_type": "markdown",
      "source": [
        "Q10) Repeat exercise A1 & A2 with 2 output nodes (as shown below). A zero output of logic gate\n",
        "maps to [O1 O2] = [1 0] from output layer while a one output from logic gate maps to [0 1].  "
      ],
      "metadata": {
        "id": "JXveLbdppg-V"
      }
    },
    {
      "cell_type": "code",
      "source": [
        "# XOR truth table inputs\n",
        "X = np.array([[0, 0],\n",
        "              [0, 1],\n",
        "              [1, 0],\n",
        "              [1, 1]])\n",
        "\n",
        "# XOR truth table outputs with two outputs per sample\n",
        "y = np.array([[1, 0],  # 0 -> [1, 0]\n",
        "              [0, 1],  # 1 -> [0, 1]\n",
        "              [0, 1],  # 1 -> [0, 1]\n",
        "              [1, 0]]) # 0 -> [1, 0]"
      ],
      "metadata": {
        "id": "Skvli1Faq0G_"
      },
      "execution_count": null,
      "outputs": []
    },
    {
      "cell_type": "code",
      "source": [
        "# Set random seed for reproducibility\n",
        "np.random.seed(42)\n",
        "\n",
        "# Initialize weights and biases\n",
        "input_layer_neurons = 2\n",
        "hidden_layer_neurons = 2\n",
        "output_neurons = 2\n",
        "\n",
        "weights_input_hidden = np.random.uniform(-1, 1, (input_layer_neurons, hidden_layer_neurons))\n",
        "bias_hidden = np.random.uniform(-1, 1, (1, hidden_layer_neurons))\n",
        "\n",
        "weights_hidden_output = np.random.uniform(-1, 1, (hidden_layer_neurons, output_neurons))\n",
        "bias_output = np.random.uniform(-1, 1, (1, output_neurons))\n"
      ],
      "metadata": {
        "id": "eXneT037QTvh"
      },
      "execution_count": null,
      "outputs": []
    },
    {
      "cell_type": "code",
      "source": [
        "# Training parameters\n",
        "learning_rate = 0.05\n",
        "epochs = 10000\n",
        "convergence_threshold = 0.002\n",
        "\n",
        "for epoch in range(epochs):\n",
        "    # Feedforward\n",
        "    hidden_layer_input = np.dot(X, weights_input_hidden) + bias_hidden\n",
        "    hidden_layer_output = sigmoid(hidden_layer_input)\n",
        "\n",
        "    output_layer_input = np.dot(hidden_layer_output, weights_hidden_output) + bias_output\n",
        "    predicted_output = sigmoid(output_layer_input)\n",
        "\n",
        "    # Compute error\n",
        "    error = y - predicted_output\n",
        "    sum_squared_error = np.mean(np.square(error))\n",
        "\n",
        "    # Backpropagation\n",
        "    d_predicted_output = error * sigmoid_derivative(predicted_output)\n",
        "\n",
        "    error_hidden_layer = d_predicted_output.dot(weights_hidden_output.T)\n",
        "    d_hidden_layer = error_hidden_layer * sigmoid_derivative(hidden_layer_output)\n",
        "\n",
        "    # Update weights and biases\n",
        "    weights_hidden_output += hidden_layer_output.T.dot(d_predicted_output) * learning_rate\n",
        "    bias_output += np.sum(d_predicted_output, axis=0, keepdims=True) * learning_rate\n",
        "\n",
        "    weights_input_hidden += X.T.dot(d_hidden_layer) * learning_rate\n",
        "    bias_hidden += np.sum(d_hidden_layer, axis=0, keepdims=True) * learning_rate\n",
        "\n",
        "    # Check for convergence\n",
        "    if sum_squared_error <= convergence_threshold:\n",
        "        print(f\"Convergence reached at epoch {epoch+1}\")\n",
        "        break\n",
        "\n",
        "if epoch == epochs - 1:\n",
        "    print(\"Did not converge within the maximum number of epochs\")\n",
        "\n",
        "print(f\"Final error: {sum_squared_error}\")\n"
      ],
      "metadata": {
        "colab": {
          "base_uri": "https://localhost:8080/"
        },
        "id": "32-gk2Orqp7F",
        "outputId": "e04cf37f-0981-4202-af23-fed5946a8573"
      },
      "execution_count": null,
      "outputs": [
        {
          "output_type": "stream",
          "name": "stdout",
          "text": [
            "Did not converge within the maximum number of epochs\n",
            "Final error: 0.008358907681777793\n"
          ]
        }
      ]
    },
    {
      "cell_type": "code",
      "source": [
        "# Final predictions\n",
        "final_output = (predicted_output > 0.5).astype(int)\n",
        "print(\"Predicted Output for XOR Gate with Two Outputs:\")\n",
        "print(final_output)\n"
      ],
      "metadata": {
        "colab": {
          "base_uri": "https://localhost:8080/"
        },
        "id": "BAszaZYSq8D7",
        "outputId": "03ee70da-3724-43a8-92cd-50c11f4912a0"
      },
      "execution_count": null,
      "outputs": [
        {
          "output_type": "stream",
          "name": "stdout",
          "text": [
            "Predicted Output for XOR Gate with Two Outputs:\n",
            "[[1 0]\n",
            " [0 1]\n",
            " [0 1]\n",
            " [1 0]]\n"
          ]
        }
      ]
    },
    {
      "cell_type": "markdown",
      "source": [
        "Q11). Learn using a MLP network from Sci-Kit manual available at https://scikit\n",
        "learn.org/stable/modules/neural_networks_supervised.html. Repeat the AND Gate and XOR Gate\n",
        "exercises using MLPClassifier() function."
      ],
      "metadata": {
        "id": "iKdYPFsVs7LP"
      }
    },
    {
      "cell_type": "code",
      "source": [
        "# AND Gate Data\n",
        "X_and = np.array([[0, 0], [0, 1], [1, 0], [1, 1]])\n",
        "y_and = np.array([0, 0, 0, 1])\n",
        "\n",
        "# XOR Gate Data\n",
        "X_xor = np.array([[0, 0], [0, 1], [1, 0], [1, 1]])\n",
        "y_xor = np.array([0, 1, 1, 0])\n"
      ],
      "metadata": {
        "id": "pFAE5PhPs4te"
      },
      "execution_count": null,
      "outputs": []
    },
    {
      "cell_type": "code",
      "source": [
        "# Initialize MLP Classifier\n",
        "mlp = MLPClassifier(hidden_layer_sizes=(2,), activation='logistic', max_iter=1000, random_state=42)\n",
        "\n",
        "# Train and Predict for AND Gate\n",
        "mlp.fit(X_and, y_and)\n",
        "predictions_and = mlp.predict(X_and)\n",
        "accuracy_and = accuracy_score(y_and, predictions_and)\n",
        "print(f\"AND Gate Accuracy: {accuracy_and}\")"
      ],
      "metadata": {
        "id": "kk5W9MXAtDsf",
        "outputId": "88bc6979-4436-4477-be20-7754ba702504",
        "colab": {
          "base_uri": "https://localhost:8080/"
        }
      },
      "execution_count": null,
      "outputs": [
        {
          "output_type": "stream",
          "name": "stdout",
          "text": [
            "AND Gate Accuracy: 0.75\n"
          ]
        },
        {
          "output_type": "stream",
          "name": "stderr",
          "text": [
            "/usr/local/lib/python3.10/dist-packages/sklearn/neural_network/_multilayer_perceptron.py:691: ConvergenceWarning: Stochastic Optimizer: Maximum iterations (1000) reached and the optimization hasn't converged yet.\n",
            "  warnings.warn(\n"
          ]
        }
      ]
    },
    {
      "cell_type": "code",
      "source": [
        "# Train and Predict for XOR Gate\n",
        "mlp.fit(X_xor, y_xor)\n",
        "predictions_xor = mlp.predict(X_xor)\n",
        "accuracy_xor = accuracy_score(y_xor, predictions_xor)\n",
        "print(f\"XOR Gate Accuracy: {accuracy_xor}\")"
      ],
      "metadata": {
        "id": "t6xOri4rtG1j",
        "outputId": "c284a5a4-144f-41ed-a6c9-93e35aac51f5",
        "colab": {
          "base_uri": "https://localhost:8080/"
        }
      },
      "execution_count": null,
      "outputs": [
        {
          "output_type": "stream",
          "name": "stdout",
          "text": [
            "XOR Gate Accuracy: 0.5\n"
          ]
        }
      ]
    },
    {
      "cell_type": "markdown",
      "source": [
        "Q12)Use the MLPClassifier() function on your project dataset."
      ],
      "metadata": {
        "id": "cJxheIkrtLSL"
      }
    },
    {
      "cell_type": "code",
      "source": [
        "dfcases = pd.read_csv(\"https://api.vitaldb.net/cases\")\n",
        "X_vitaldb = dfcases[['age', 'sex', 'height', 'weight']].dropna()\n",
        "le = LabelEncoder()\n",
        "X_vitaldb['sex'] = le.fit_transform(X_vitaldb['sex'])\n",
        "# Creating a binary target variable (example)\n",
        "# Let's say we're predicting if a patient is 'high_risk' based on height\n",
        "y_vitaldb = (dfcases['height'] > 160).astype(int)"
      ],
      "metadata": {
        "id": "EF6SGstytJfp"
      },
      "execution_count": null,
      "outputs": []
    },
    {
      "cell_type": "code",
      "source": [
        "# Ensure the target matches the filtered features\n",
        "y_vitaldb = y_vitaldb[X_vitaldb.index]\n",
        "# Split the data into training and testing sets\n",
        "X_train, X_test, y_train, y_test = train_test_split(X_vitaldb, y_vitaldb, test_size=0.2, random_state=42)\n",
        "# Standardize the features\n",
        "scaler = StandardScaler()\n",
        "X_train = scaler.fit_transform(X_train)\n",
        "X_test = scaler.transform(X_test)"
      ],
      "metadata": {
        "id": "D1QaKZewtRGq"
      },
      "execution_count": null,
      "outputs": []
    },
    {
      "cell_type": "code",
      "source": [
        "# Train the MLPClassifier\n",
        "mlp_vitaldb = MLPClassifier(hidden_layer_sizes=(3,), activation='logistic', max_iter=1000, random_state=42)\n",
        "mlp_vitaldb.fit(X_train, y_train)\n",
        "# Make predictions\n",
        "predictions_vitaldb = mlp_vitaldb.predict(X_test)\n",
        "# Calculate accuracy\n",
        "accuracy_vitaldb = accuracy_score(y_test, predictions_vitaldb)\n",
        "print(f\"VitalDB Case Classification Accuracy: {np.round(accuracy_vitaldb, 12)}\")\n",
        "# Detailed classification report\n",
        "print(\"Classification Report:\\n\", classification_report(y_test, predictions_vitaldb,digits=12))\n",
        "# Confusion matrix\n",
        "print(\"Confusion Matrix:\\n\", confusion_matrix(y_test, predictions_vitaldb))"
      ],
      "metadata": {
        "id": "1Q9IbhWutTmI",
        "outputId": "283659c1-5b39-4eda-9c1f-b9af9b08acb6",
        "colab": {
          "base_uri": "https://localhost:8080/"
        }
      },
      "execution_count": null,
      "outputs": [
        {
          "output_type": "stream",
          "name": "stdout",
          "text": [
            "VitalDB Case Classification Accuracy: 0.992957746479\n",
            "Classification Report:\n",
            "               precision    recall  f1-score   support\n",
            "\n",
            "           0  0.984819734345 0.998076923077 0.991404011461       520\n",
            "           1  0.998668442077 0.989445910290 0.994035785288       758\n",
            "\n",
            "    accuracy                      0.992957746479      1278\n",
            "   macro avg  0.991744088211 0.993761416684 0.992719898375      1278\n",
            "weighted avg  0.993033600121 0.992957746479 0.992964953997      1278\n",
            "\n",
            "Confusion Matrix:\n",
            " [[519   1]\n",
            " [  8 750]]\n"
          ]
        }
      ]
    },
    {
      "cell_type": "code",
      "source": [],
      "metadata": {
        "id": "IJzqYpQ2xbHZ"
      },
      "execution_count": null,
      "outputs": []
    }
  ]
}