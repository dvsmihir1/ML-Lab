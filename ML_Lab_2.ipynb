{
  "nbformat": 4,
  "nbformat_minor": 0,
  "metadata": {
    "colab": {
      "provenance": [],
      "authorship_tag": "ABX9TyNsMpFtGZXdxZ5mc+DDfAfJ",
      "include_colab_link": true
    },
    "kernelspec": {
      "name": "python3",
      "display_name": "Python 3"
    },
    "language_info": {
      "name": "python"
    }
  },
  "cells": [
    {
      "cell_type": "markdown",
      "metadata": {
        "id": "view-in-github",
        "colab_type": "text"
      },
      "source": [
        "<a href=\"https://colab.research.google.com/github/dvsmihir1/ML-Lab/blob/main/ML_Lab_2.ipynb\" target=\"_parent\"><img src=\"https://colab.research.google.com/assets/colab-badge.svg\" alt=\"Open In Colab\"/></a>"
      ]
    },
    {
      "cell_type": "code",
      "source": [
        "import pandas as pd\n",
        "import numpy as np\n",
        "file='Lab Session Data.xlsx'\n",
        "df=pd.ExcelFile(file)\n",
        "purchase_data = pd.read_excel(file, sheet_name='Purchase data')\n",
        "A = purchase_data[['Candies (#)', 'Mangoes (Kg)', 'Milk Packets (#)']].values\n",
        "C = purchase_data['Payment (Rs)'].values.reshape(-1, 1)\n",
        "dimension=A.shape[1]\n",
        "dimensionc=C.shape[1]\n",
        "noofvectors=A.shape[0]\n",
        "noofvectorsc=C.shape[0]\n",
        "rankA=np.linalg.matrix_rank(A)\n",
        "rankC=np.linalg.matrix_rank(C)\n",
        "pseudoinverse=np.linalg.pinv(A)\n",
        "costperproduct=np.dot(pseudoinverse,C)\n",
        "print(costperproduct)\n",
        "print(pseudoinverse)\n",
        "print(rankA)\n",
        "print(rankC)\n",
        "print(dimension)\n",
        "print(dimensionc)\n",
        "print(noofvectors)\n",
        "print(noofvectorsc)"
      ],
      "metadata": {
        "colab": {
          "base_uri": "https://localhost:8080/"
        },
        "id": "odEgyblMeOHt",
        "outputId": "696b6b5d-cb11-45ed-919d-f4f7100990a7"
      },
      "execution_count": null,
      "outputs": [
        {
          "output_type": "stream",
          "name": "stdout",
          "text": [
            "[[ 1.]\n",
            " [55.]\n",
            " [18.]]\n",
            "[[-0.01008596 -0.03124505  0.01013951  0.0290728   0.0182907   0.01161794\n",
            "  -0.00771348  0.00095458  0.01743623 -0.00542016]\n",
            " [ 0.09059668  0.07263726  0.03172933 -0.09071908 -0.01893196 -0.06926996\n",
            "   0.05675464  0.03152577 -0.07641966  0.00357352]\n",
            " [ 0.00299878  0.15874243 -0.05795468 -0.06609024 -0.06295043  0.03348017\n",
            "   0.01541831 -0.01070461  0.00029003  0.05938755]]\n",
            "3\n",
            "1\n",
            "3\n",
            "1\n",
            "10\n",
            "10\n"
          ]
        }
      ]
    },
    {
      "cell_type": "markdown",
      "source": [
        "Q2)"
      ],
      "metadata": {
        "id": "OjddkDNposgH"
      }
    },
    {
      "cell_type": "code",
      "source": [
        "pseudo_inverse_A = np.linalg.pinv(A)\n",
        "model_vector_X = np.dot(pseudo_inverse_A, C)\n",
        "print(model_vector_X)\n",
        "print(pseudo_inverse_A)"
      ],
      "metadata": {
        "id": "AuM3_z7RhmoV",
        "colab": {
          "base_uri": "https://localhost:8080/"
        },
        "outputId": "7bd082c8-4103-45a5-8996-cb1563eeb232"
      },
      "execution_count": null,
      "outputs": [
        {
          "output_type": "stream",
          "name": "stdout",
          "text": [
            "[[ 1.]\n",
            " [55.]\n",
            " [18.]]\n",
            "[[-0.01008596 -0.03124505  0.01013951  0.0290728   0.0182907   0.01161794\n",
            "  -0.00771348  0.00095458  0.01743623 -0.00542016]\n",
            " [ 0.09059668  0.07263726  0.03172933 -0.09071908 -0.01893196 -0.06926996\n",
            "   0.05675464  0.03152577 -0.07641966  0.00357352]\n",
            " [ 0.00299878  0.15874243 -0.05795468 -0.06609024 -0.06295043  0.03348017\n",
            "   0.01541831 -0.01070461  0.00029003  0.05938755]]\n"
          ]
        }
      ]
    },
    {
      "cell_type": "code",
      "source": [
        "import pandas as pd\n",
        "import numpy as np\n",
        "from sklearn.model_selection import train_test_split\n",
        "from sklearn.linear_model import LogisticRegression\n",
        "from sklearn.metrics import accuracy_score, classification_report\n",
        "\n",
        "# Load the Excel file (make sure to upload your file in Colab and get the correct path)\n",
        "file_path = 'Lab Session Data.xlsx'\n",
        "\n",
        "# Load the 'Purchase data' sheet\n",
        "purchase_data = pd.read_excel(file_path, sheet_name='Purchase data')\n",
        "\n",
        "# Mark customers as 'RICH' or 'POOR'\n",
        "purchase_data['Status'] = ['RICH' if payment > 200 else 'POOR' for payment in purchase_data['Payment (Rs)']]\n",
        "\n",
        "# Extract features (Candies, Mangoes, Milk Packets) and target (Status)\n",
        "X = purchase_data[['Candies (#)', 'Mangoes (Kg)', 'Milk Packets (#)']]\n",
        "y = purchase_data['Status']\n",
        "\n",
        "# Convert target variable to binary format for classification\n",
        "y_binary = np.where(y == 'RICH', 1, 0)\n",
        "\n",
        "# Split the data into training and testing sets\n",
        "X_train, X_test, y_train, y_test = train_test_split(X, y_binary, test_size=0.2, random_state=42)\n",
        "\n",
        "# Develop a Logistic Regression classifier model\n",
        "classifier = LogisticRegression()\n",
        "classifier.fit(X_train, y_train)\n",
        "\n",
        "# Predict the status on the test set\n",
        "y_pred = classifier.predict(X_test)\n",
        "\n",
        "# Evaluate the model\n",
        "accuracy = accuracy_score(y_test, y_pred)\n",
        "report = classification_report(y_test, y_pred, target_names=['POOR', 'RICH'])\n",
        "\n",
        "# Print the results\n",
        "print(\"Classifier Accuracy:\", accuracy)\n",
        "print(\"Classification Report:\\n\", report)\n",
        "\n",
        "# Show the marked DataFrame\n",
        "print(\"\\nPurchase Data with Status:\")\n",
        "print(purchase_data)\n"
      ],
      "metadata": {
        "id": "w3vgj2WzquBD",
        "colab": {
          "base_uri": "https://localhost:8080/"
        },
        "outputId": "4708db10-55e1-4ad1-cb19-39c39e326b01"
      },
      "execution_count": null,
      "outputs": [
        {
          "output_type": "stream",
          "name": "stdout",
          "text": [
            "Classifier Accuracy: 0.5\n",
            "Classification Report:\n",
            "               precision    recall  f1-score   support\n",
            "\n",
            "        POOR       0.50      1.00      0.67         1\n",
            "        RICH       0.00      0.00      0.00         1\n",
            "\n",
            "    accuracy                           0.50         2\n",
            "   macro avg       0.25      0.50      0.33         2\n",
            "weighted avg       0.25      0.50      0.33         2\n",
            "\n",
            "\n",
            "Purchase Data with Status:\n",
            "  Customer  Candies (#)  Mangoes (Kg)  Milk Packets (#)  Payment (Rs)  \\\n",
            "0      C_1           20             6                 2           386   \n",
            "1      C_2           16             3                 6           289   \n",
            "2      C_3           27             6                 2           393   \n",
            "3      C_4           19             1                 2           110   \n",
            "4      C_5           24             4                 2           280   \n",
            "5      C_6           22             1                 5           167   \n",
            "6      C_7           15             4                 2           271   \n",
            "7      C_8           18             4                 2           274   \n",
            "8      C_9           21             1                 4           148   \n",
            "9     C_10           16             2                 4           198   \n",
            "\n",
            "   Unnamed: 5  Unnamed: 6  Unnamed: 7  Unnamed: 8  Unnamed: 9  ...  \\\n",
            "0         NaN         NaN         NaN         NaN         NaN  ...   \n",
            "1         NaN         NaN         NaN         NaN         NaN  ...   \n",
            "2         NaN         NaN         NaN         NaN         NaN  ...   \n",
            "3         NaN         NaN         NaN         NaN         NaN  ...   \n",
            "4         NaN         NaN         NaN         NaN         NaN  ...   \n",
            "5         NaN         NaN         NaN         NaN         NaN  ...   \n",
            "6         NaN         NaN         NaN         NaN         NaN  ...   \n",
            "7         NaN         NaN         NaN         NaN         NaN  ...   \n",
            "8         NaN         NaN         NaN         NaN         NaN  ...   \n",
            "9         NaN         NaN         NaN         NaN         NaN  ...   \n",
            "\n",
            "   Unnamed: 13  Unnamed: 14  Unnamed: 15  Unnamed: 16  Unnamed: 17  \\\n",
            "0          NaN          NaN          NaN          NaN          NaN   \n",
            "1          NaN          NaN          NaN          NaN          NaN   \n",
            "2          NaN          NaN          NaN          NaN          NaN   \n",
            "3          NaN          NaN          NaN          NaN          NaN   \n",
            "4          NaN          NaN          NaN          NaN          NaN   \n",
            "5          NaN          NaN          NaN          NaN          NaN   \n",
            "6          NaN          NaN          NaN          NaN          NaN   \n",
            "7          NaN          NaN          NaN          NaN          NaN   \n",
            "8          NaN          NaN          NaN          NaN          NaN   \n",
            "9          NaN          NaN          NaN          NaN          NaN   \n",
            "\n",
            "   Unnamed: 18  Candy  Mango  Milk  Status  \n",
            "0          NaN    1.0   55.0  18.0    RICH  \n",
            "1          NaN    NaN    NaN   NaN    RICH  \n",
            "2          NaN    NaN    NaN   NaN    RICH  \n",
            "3          NaN    NaN    NaN   NaN    POOR  \n",
            "4          NaN    NaN    NaN   NaN    RICH  \n",
            "5          NaN    NaN    NaN   NaN    POOR  \n",
            "6          NaN    NaN    NaN   NaN    RICH  \n",
            "7          NaN    NaN    NaN   NaN    RICH  \n",
            "8          NaN    NaN    NaN   NaN    POOR  \n",
            "9          NaN    NaN    NaN   NaN    POOR  \n",
            "\n",
            "[10 rows x 23 columns]\n"
          ]
        },
        {
          "output_type": "stream",
          "name": "stderr",
          "text": [
            "/usr/local/lib/python3.10/dist-packages/sklearn/metrics/_classification.py:1471: UndefinedMetricWarning: Precision and F-score are ill-defined and being set to 0.0 in labels with no predicted samples. Use `zero_division` parameter to control this behavior.\n",
            "  _warn_prf(average, modifier, msg_start, len(result))\n",
            "/usr/local/lib/python3.10/dist-packages/sklearn/metrics/_classification.py:1471: UndefinedMetricWarning: Precision and F-score are ill-defined and being set to 0.0 in labels with no predicted samples. Use `zero_division` parameter to control this behavior.\n",
            "  _warn_prf(average, modifier, msg_start, len(result))\n",
            "/usr/local/lib/python3.10/dist-packages/sklearn/metrics/_classification.py:1471: UndefinedMetricWarning: Precision and F-score are ill-defined and being set to 0.0 in labels with no predicted samples. Use `zero_division` parameter to control this behavior.\n",
            "  _warn_prf(average, modifier, msg_start, len(result))\n"
          ]
        }
      ]
    },
    {
      "cell_type": "markdown",
      "source": [
        "Q4)"
      ],
      "metadata": {
        "id": "KHwWntOI7mJS"
      }
    },
    {
      "cell_type": "code",
      "source": [
        "import pandas as pd\n",
        "import numpy as np\n",
        "import statistics\n",
        "import matplotlib.pyplot as plt\n",
        "\n",
        "# Load the Excel file\n",
        "file_path = 'Lab Session Data.xlsx'\n",
        "\n",
        "# Load the 'IRCTC Stock Price' sheet\n",
        "stock_data = pd.read_excel(file_path, sheet_name='IRCTC Stock Price')\n",
        "\n",
        "# Convert 'Date' column to datetime\n",
        "stock_data['Date'] = pd.to_datetime(stock_data['Date'])\n",
        "\n",
        "# Calculate mean and variance of the Price data (column D)\n",
        "price_mean = statistics.mean(stock_data['Price'])\n",
        "price_variance = statistics.variance(stock_data['Price'])\n",
        "\n",
        "print(\"Mean of Price Data:\", price_mean)\n",
        "print(\"Variance of Price Data:\", price_variance)"
      ],
      "metadata": {
        "colab": {
          "base_uri": "https://localhost:8080/"
        },
        "id": "yI6xTw8N64s5",
        "outputId": "186d01d5-13a9-4e7f-a6f0-b3d2fcaa1827"
      },
      "execution_count": null,
      "outputs": [
        {
          "output_type": "stream",
          "name": "stdout",
          "text": [
            "Mean of Price Data: 1560.663453815261\n",
            "Variance of Price Data: 58732.365352539186\n"
          ]
        }
      ]
    },
    {
      "cell_type": "code",
      "source": [
        "wednesday_data = stock_data[stock_data['Date'].dt.weekday == 2]\n",
        "wednesday_mean = statistics.mean(wednesday_data['Price'])\n",
        "\n",
        "print(\"\\nMean of Price Data on Wednesdays:\", wednesday_mean)\n",
        "print(\"Comparison with Population Mean:\", wednesday_mean - price_mean)"
      ],
      "metadata": {
        "colab": {
          "base_uri": "https://localhost:8080/"
        },
        "id": "PgFsvqTd7poe",
        "outputId": "800b41d6-278e-46fc-c6c4-f461f3198470"
      },
      "execution_count": null,
      "outputs": [
        {
          "output_type": "stream",
          "name": "stdout",
          "text": [
            "\n",
            "Mean of Price Data on Wednesdays: 1550.706\n",
            "Comparison with Population Mean: -9.957453815261033\n"
          ]
        }
      ]
    },
    {
      "cell_type": "code",
      "source": [
        "april_data = stock_data[stock_data['Date'].dt.month == 4]\n",
        "april_mean = statistics.mean(april_data['Price'])\n",
        "\n",
        "print(\"\\nMean of Price Data in April:\", april_mean)\n",
        "print(\"Comparison with Population Mean:\", april_mean - price_mean)\n"
      ],
      "metadata": {
        "colab": {
          "base_uri": "https://localhost:8080/"
        },
        "id": "yiKN8ISV8Gmg",
        "outputId": "6826c5ab-5236-4a13-d525-a515dcd4e3b3"
      },
      "execution_count": null,
      "outputs": [
        {
          "output_type": "stream",
          "name": "stdout",
          "text": [
            "\n",
            "Mean of Price Data in April: 1698.9526315789474\n",
            "Comparison with Population Mean: 138.28917776368644\n"
          ]
        }
      ]
    },
    {
      "cell_type": "code",
      "source": [
        "loss_prob = len(stock_data[stock_data['Chg%'] < 0]) / len(stock_data)\n",
        "print(\"\\nProbability of Making a Loss:\", loss_prob)"
      ],
      "metadata": {
        "colab": {
          "base_uri": "https://localhost:8080/"
        },
        "id": "etauOTOt8a1t",
        "outputId": "20ef0b58-e9da-4361-bbf3-99e543239eff"
      },
      "execution_count": null,
      "outputs": [
        {
          "output_type": "stream",
          "name": "stdout",
          "text": [
            "\n",
            "Probability of Making a Loss: 0.4979919678714859\n"
          ]
        }
      ]
    },
    {
      "cell_type": "code",
      "source": [
        "profit_wednesday_prob = len(wednesday_data[wednesday_data['Chg%'] > 0]) / len(wednesday_data)\n",
        "print(\"\\nProbability of Making a Profit on Wednesday:\", profit_wednesday_prob)"
      ],
      "metadata": {
        "colab": {
          "base_uri": "https://localhost:8080/"
        },
        "id": "d1ikB4HY-xI7",
        "outputId": "f9308662-1ca7-4863-df31-f1b73b199f7a"
      },
      "execution_count": null,
      "outputs": [
        {
          "output_type": "stream",
          "name": "stdout",
          "text": [
            "\n",
            "Probability of Making a Profit on Wednesday: 0.42\n"
          ]
        }
      ]
    },
    {
      "cell_type": "code",
      "source": [
        "conditional_profit_wednesday_prob = profit_wednesday_prob\n",
        "print(\"\\nConditional Probability of Making a Profit Given It's Wednesday:\", conditional_profit_wednesday_prob)"
      ],
      "metadata": {
        "colab": {
          "base_uri": "https://localhost:8080/"
        },
        "id": "CDmRj3Pq-6Qq",
        "outputId": "d0c7e7a8-b1b4-4dd6-f0bf-2f701a8c22e7"
      },
      "execution_count": null,
      "outputs": [
        {
          "output_type": "stream",
          "name": "stdout",
          "text": [
            "\n",
            "Conditional Probability of Making a Profit Given It's Wednesday: 0.42\n"
          ]
        }
      ]
    },
    {
      "cell_type": "code",
      "source": [
        "stock_data['DayOfWeek'] = stock_data['Date'].dt.day_name()\n",
        "plt.scatter(stock_data['DayOfWeek'], stock_data['Chg%'])\n",
        "plt.xlabel('Day of the Week')\n",
        "plt.ylabel('Chg%')\n",
        "plt.title('Chg% vs Day of the Week')\n",
        "plt.xticks(rotation=45)\n",
        "plt.show()"
      ],
      "metadata": {
        "colab": {
          "base_uri": "https://localhost:8080/",
          "height": 525
        },
        "id": "TdI_PWi_--YX",
        "outputId": "342770de-c565-4bcc-9243-dc5a3dc9c92a"
      },
      "execution_count": null,
      "outputs": [
        {
          "output_type": "display_data",
          "data": {
            "text/plain": [
              "<Figure size 640x480 with 1 Axes>"
            ],
            "image/png": "[encoded data removed]"
          },
          "metadata": {}
        }
      ]
    },
    {
      "cell_type": "markdown",
      "source": [
        "Q5)"
      ],
      "metadata": {
        "id": "mQHaldLf_KH6"
      }
    },
    {
      "cell_type": "code",
      "source": [
        "import pandas as pd\n",
        "import numpy as np\n",
        "import seaborn as sns\n",
        "import matplotlib.pyplot as plt\n",
        "from sklearn.preprocessing import LabelEncoder, OneHotEncoder\n",
        "from scipy.stats import zscore\n",
        "\n",
        "# Load the Excel file\n",
        "file_path = 'Lab Session Data.xlsx'\n",
        "\n",
        "# Load the 'thyroid0387_UCI' sheet\n",
        "thyroid_data = pd.read_excel(file_path, sheet_name='thyroid0387_UCI')\n",
        "\n",
        "# Display the first few rows of the data to understand its structure\n",
        "print(thyroid_data.head())\n",
        "\n",
        "# Study each attribute and associated values\n",
        "data_info = thyroid_data.info()\n",
        "print(data_info)\n",
        "\n",
        "# Identify the datatype (nominal, ordinal, etc.) for each attribute\n",
        "attribute_types = thyroid_data.dtypes\n",
        "print(\"\\nData Types of Each Attribute:\\n\", attribute_types)"
      ],
      "metadata": {
        "colab": {
          "base_uri": "https://localhost:8080/"
        },
        "id": "hkg2YK90_ECA",
        "outputId": "45eb7fce-fa4d-4004-c435-efd5ec4f4881"
      },
      "execution_count": null,
      "outputs": [
        {
          "output_type": "stream",
          "name": "stdout",
          "text": [
            "   Record ID  age sex on thyroxine query on thyroxine  \\\n",
            "0  840801013   29   F            f                  f   \n",
            "1  840801014   29   F            f                  f   \n",
            "2  840801042   41   F            f                  f   \n",
            "3  840803046   36   F            f                  f   \n",
            "4  840803047   32   F            f                  f   \n",
            "\n",
            "  on antithyroid medication sick pregnant thyroid surgery I131 treatment  ...  \\\n",
            "0                         f    f        f               f              f  ...   \n",
            "1                         f    f        f               f              f  ...   \n",
            "2                         f    f        f               f              f  ...   \n",
            "3                         f    f        f               f              f  ...   \n",
            "4                         f    f        f               f              f  ...   \n",
            "\n",
            "  TT4 measured  TT4 T4U measured T4U FTI measured FTI TBG measured TBG  \\\n",
            "0            f    ?            f   ?            f   ?            f   ?   \n",
            "1            t  128            f   ?            f   ?            f   ?   \n",
            "2            f    ?            f   ?            f   ?            t  11   \n",
            "3            f    ?            f   ?            f   ?            t  26   \n",
            "4            f    ?            f   ?            f   ?            t  36   \n",
            "\n",
            "  referral source     Condition  \n",
            "0           other  NO CONDITION  \n",
            "1           other  NO CONDITION  \n",
            "2           other  NO CONDITION  \n",
            "3           other  NO CONDITION  \n",
            "4           other             S  \n",
            "\n",
            "[5 rows x 31 columns]\n",
            "<class 'pandas.core.frame.DataFrame'>\n",
            "RangeIndex: 9172 entries, 0 to 9171\n",
            "Data columns (total 31 columns):\n",
            " #   Column                     Non-Null Count  Dtype \n",
            "---  ------                     --------------  ----- \n",
            " 0   Record ID                  9172 non-null   int64 \n",
            " 1   age                        9172 non-null   int64 \n",
            " 2   sex                        9172 non-null   object\n",
            " 3   on thyroxine               9172 non-null   object\n",
            " 4   query on thyroxine         9172 non-null   object\n",
            " 5   on antithyroid medication  9172 non-null   object\n",
            " 6   sick                       9172 non-null   object\n",
            " 7   pregnant                   9172 non-null   object\n",
            " 8   thyroid surgery            9172 non-null   object\n",
            " 9   I131 treatment             9172 non-null   object\n",
            " 10  query hypothyroid          9172 non-null   object\n",
            " 11  query hyperthyroid         9172 non-null   object\n",
            " 12  lithium                    9172 non-null   object\n",
            " 13  goitre                     9172 non-null   object\n",
            " 14  tumor                      9172 non-null   object\n",
            " 15  hypopituitary              9172 non-null   object\n",
            " 16  psych                      9172 non-null   object\n",
            " 17  TSH measured               9172 non-null   object\n",
            " 18  TSH                        9172 non-null   object\n",
            " 19  T3 measured                9172 non-null   object\n",
            " 20  T3                         9172 non-null   object\n",
            " 21  TT4 measured               9172 non-null   object\n",
            " 22  TT4                        9172 non-null   object\n",
            " 23  T4U measured               9172 non-null   object\n",
            " 24  T4U                        9172 non-null   object\n",
            " 25  FTI measured               9172 non-null   object\n",
            " 26  FTI                        9172 non-null   object\n",
            " 27  TBG measured               9172 non-null   object\n",
            " 28  TBG                        9172 non-null   object\n",
            " 29  referral source            9172 non-null   object\n",
            " 30  Condition                  9172 non-null   object\n",
            "dtypes: int64(2), object(29)\n",
            "memory usage: 2.2+ MB\n",
            "None\n",
            "\n",
            "Data Types of Each Attribute:\n",
            " Record ID                     int64\n",
            "age                           int64\n",
            "sex                          object\n",
            "on thyroxine                 object\n",
            "query on thyroxine           object\n",
            "on antithyroid medication    object\n",
            "sick                         object\n",
            "pregnant                     object\n",
            "thyroid surgery              object\n",
            "I131 treatment               object\n",
            "query hypothyroid            object\n",
            "query hyperthyroid           object\n",
            "lithium                      object\n",
            "goitre                       object\n",
            "tumor                        object\n",
            "hypopituitary                object\n",
            "psych                        object\n",
            "TSH measured                 object\n",
            "TSH                          object\n",
            "T3 measured                  object\n",
            "T3                           object\n",
            "TT4 measured                 object\n",
            "TT4                          object\n",
            "T4U measured                 object\n",
            "T4U                          object\n",
            "FTI measured                 object\n",
            "FTI                          object\n",
            "TBG measured                 object\n",
            "TBG                          object\n",
            "referral source              object\n",
            "Condition                    object\n",
            "dtype: object\n"
          ]
        }
      ]
    },
    {
      "cell_type": "code",
      "source": [
        "categorical_columns = thyroid_data.select_dtypes(include=['object']).columns\n",
        "for column in categorical_columns:\n",
        "    unique_values = thyroid_data[column].unique()\n",
        "    print(f\"\\nUnique values in '{column}':\\n{unique_values}\")\n",
        "\n",
        "# Handle categorical variables with Label Encoding for ordinal variables and One-Hot Encoding for nominal variables\n",
        "# Assuming no ordinal columns for simplicity\n",
        "label_encoded_columns = []\n",
        "one_hot_encoded_columns = []\n",
        "\n",
        "for column in categorical_columns:\n",
        "    if column in ['ExampleOrdinalColumn']:  # Replace with actual ordinal column names if any\n",
        "        le = LabelEncoder()\n",
        "        thyroid_data[column] = le.fit_transform(thyroid_data[column])\n",
        "        label_encoded_columns.append(column)\n",
        "    else:\n",
        "        one_hot_encoded_columns.append(column)\n",
        "\n",
        "# One-Hot Encoding for nominal variables\n",
        "thyroid_data = pd.get_dummies(thyroid_data, columns=one_hot_encoded_columns)"
      ],
      "metadata": {
        "colab": {
          "base_uri": "https://localhost:8080/"
        },
        "id": "qd1bLghu_d_w",
        "outputId": "a7bb8a48-b346-415c-a8ee-ffa28a6a6470"
      },
      "execution_count": null,
      "outputs": [
        {
          "output_type": "stream",
          "name": "stdout",
          "text": [
            "\n",
            "Unique values in 'sex':\n",
            "['F' 'M' '?']\n",
            "\n",
            "Unique values in 'on thyroxine':\n",
            "['f' 't']\n",
            "\n",
            "Unique values in 'query on thyroxine':\n",
            "['f' 't']\n",
            "\n",
            "Unique values in 'on antithyroid medication':\n",
            "['f' 't']\n",
            "\n",
            "Unique values in 'sick':\n",
            "['f' 't']\n",
            "\n",
            "Unique values in 'pregnant':\n",
            "['f' 't']\n",
            "\n",
            "Unique values in 'thyroid surgery':\n",
            "['f' 't']\n",
            "\n",
            "Unique values in 'I131 treatment':\n",
            "['f' 't']\n",
            "\n",
            "Unique values in 'query hypothyroid':\n",
            "['t' 'f']\n",
            "\n",
            "Unique values in 'query hyperthyroid':\n",
            "['f' 't']\n",
            "\n",
            "Unique values in 'lithium':\n",
            "['f' 't']\n",
            "\n",
            "Unique values in 'goitre':\n",
            "['f' 't']\n",
            "\n",
            "Unique values in 'tumor':\n",
            "['f' 't']\n",
            "\n",
            "Unique values in 'hypopituitary':\n",
            "['f' 't']\n",
            "\n",
            "Unique values in 'psych':\n",
            "['f' 't']\n",
            "\n",
            "Unique values in 'TSH measured':\n",
            "['t' 'f']\n",
            "\n",
            "Unique values in 'TSH':\n",
            "[0.3 1.6 '?' 0.7 1.2 1.9 1 0.5 2.6 68 1.5 5.9 0.05 4 0.4 0.8 0.2 3\n",
            " 9.599999 140 0.6 1.7 2.5 6.8 2.1 1.1 9.799999 3.7 0.1 0.35 90 1.3 2.7 2.9\n",
            " 0.25 5.8 2 0.9 3.2 7.4 1.8 5 70 6.5 11.599999 4.2 88 2.2 53 16.5 8.4 4.1\n",
            " 3.3 80 176 30 11 6 71 9.099999 10.7 4.9 3.4 1.83 4.6 1.4 14 3.5 46 18 170\n",
            " 19.199999 7.5 145 7.9 19 48 25 7.3 6.7 153 35 3.8 2.3 9.2 12 5.5\n",
            " 15.299999 0.15 10.299999 430 213 37 216 26 4.3 2.4 47 8.2 14.4 17.4 100\n",
            " 13.2 41 3.1 22 45 4.5 24 65 4.4 56 11.4 5.2 5.6 8.299999 400 260 5.4 8\n",
            " 6.6 8.5 5.1 138 42 44 2.8 10 54 3.9 150 31 0.65 200 85 86 6.3 50 34 16\n",
            " 9.4 14.299999 49 6.2 82 77 92 13 4.7 52 27 8.799999 1.05 8.099999\n",
            " 13.299999 28 125 15 1.01 39 288 21 3.6 0.45 143 235 55 7.6 38 32 61 4.8\n",
            " 14.799999 7 20 9 98 29 6.4 17 23 18.4 36 109 8.599999 6.1 126 43 9.7 0.04\n",
            " 0.12 6.9 160 0.16 0.53 0.88 0.26 0.025 0.39 0.77 0.07 40 0.23 0.84 0.95\n",
            " 0.38 0.41 0.065 0.005 0.78 0.81 183 0.61 0.32 0.82 8.9 0.87 0.98 0.47\n",
            " 0.58 0.43 0.08 0.86 0.89 0.91 530 0.01 0.52 0.83 0.015 0.03 0.59 0.62\n",
            " 0.74 0.46 178 0.02 0.09 165 0.68 0.85 0.035 0.17 7.1 7.8 9.9 0.42 0.28\n",
            " 0.37 440 0.27 0.63 0.71 0.57 0.92 0.72 0.49 0.94 0.97 0.56 0.54 0.79 103\n",
            " 0.75 5.73 0.67 7.2 11.099999 0.93 0.51 9.5 0.76 7.7 0.06 0.64 5.7 0.73\n",
            " 199 99 58 0.22 66 0.96 0.19 0.24 0.55 0.18 0.21 0.48 1.02 0.44 0.99 0.34\n",
            " 0.33 117 0.69 89 76 151 51 139 0.14 0.29 78 472 5.3 230 0.31 12.099999\n",
            " 0.045 0.055 60 0.13 108 188 30.5 468 0.36 26.4 0.66 236 33 478 9.299999\n",
            " 116 0.255 0.11 114 1.03 197 96 11.5 131 67 106 172 164 0.075 141 1.04\n",
            " 0.135 0.085 0.125 0.115 73 436 0.095 11.9 494 62 393 8.7 0.105 252 59 118\n",
            " 1.14 1.12 191 166 460 192 136 177 198 13.7 16.799999 74 500 4.01]\n",
            "\n",
            "Unique values in 'T3 measured':\n",
            "['f' 't']\n",
            "\n",
            "Unique values in 'T3':\n",
            "['?' 1.9 2.6 1.8 1.7 2.3 2.4 2.9 2 2.1 1.6 0.1 1.4 1.2 1.5 1.3 2.5 2.7 2.2\n",
            " 2.8 3.2 0.4 0.8 1 1.1 3.7 4.4 3 3.1 3.6 7.6 0.9 4.2 0.5 0.6 0.3 0.7 3.8\n",
            " 0.2 4.1 6.6 4.7 8.599999 3.3 4.3 0.05 3.4 4.6 4.9 6.2 3.5 3.9 8.9 4.5\n",
            " 8.099999 5 4.8 5.1 5.3 6.7 7.3 6.1 4 5.5 5.4 5.7 7 6 7.1 8.5 10.599999\n",
            " 1.44 5.2 6.9 6.8 5.6 6.4 18 9.5 6.5 13.299999 0.83 0.69 0.93 5.9 8]\n",
            "\n",
            "Unique values in 'TT4 measured':\n",
            "['f' 't']\n",
            "\n",
            "Unique values in 'TT4':\n",
            "['?' 128 116 76 83 133 105 122 48 90 79 104 88 107 126 113 150 93 157 80\n",
            " 91 47 39 71 111 86 136 163 118 82 33 134 60 102 97 115 132 114 94 145 106\n",
            " 87 120 121 152 98 109 139 131 112 64 7.5 68 99 92 95 100 184 81 308 57\n",
            " 170 130 51 144 73 63 78 129 85 125 196 153 96 127 108 250 141 110 101 210\n",
            " 140 74 188 3.9 117 84 138 119 27 89 236 32 55 72 44 158 69 9 6 15 149 13\n",
            " 61 182 4 178 135 70 151 56 59 213 77 222 195 14 12 40 67 16 167 148 147\n",
            " 123 50 65 66 7.6 4.1 49 75 202 3 169 200 24 242 162 103 143 186 124 58 35\n",
            " 180 359 43 225 137 166 302 62 206 52 155 142 261 176 22 260 159 54 287\n",
            " 230 36 172 296 21 154 183 198 174 208 245 217 11 207 42 228 46 201 212 23\n",
            " 333 38 168 41 175 146 211 181 156 9.7 275 247 268 269 10 216 223 30 160\n",
            " 164 197 194 161 18 244 19 31 235 190 191 218 17 209 45 37 171 252 185 34\n",
            " 2 450 224 221 177 215 189 255 179 301 2.9 256 187 192 205 4.8 258 220 29\n",
            " 53 28 199 248 430 214 253 232 5.8 165 9.5 263 240 204 193 239 372 25 203\n",
            " 173 219 237 231 226 246 233 289 257 273 272 5 278 8.4 4.06 395 4.2 386 20\n",
            " 238 600 292 2.5 410 234 249 280]\n",
            "\n",
            "Unique values in 'T4U measured':\n",
            "['f' 't']\n",
            "\n",
            "Unique values in 'T4U':\n",
            "['?' 1.02 1.06 0.94 1.08 0.84 1.13 1.07 0.87 0.89 0.62 0.91 0.68 1 1.38\n",
            " 0.79 0.95 1.57 0.92 1.48 1.1 0.7 1.01 1.05 0.96 0.78 1.4 0.66 0.86 0.76\n",
            " 0.9 1.16 1.12 0.98 1.04 1.26 0.83 0.97 0.93 0.88 0.73 1.29 1.3 0.75 0.8\n",
            " 1.83 1.03 0.61 1.44 1.18 0.59 0.81 0.64 1.2 0.82 1.19 0.99 1.56 1.22 0.71\n",
            " 1.32 0.67 0.32 1.11 0.85 0.52 1.15 1.21 0.77 0.69 1.51 1.33 0.55 1.45\n",
            " 1.24 1.79 0.72 1.73 1.27 1.68 1.09 1.43 0.35 0.3 1.28 0.2 1.41 1.14 0.53\n",
            " 1.52 1.23 0.74 1.53 1.62 1.66 0.4 1.86 1.59 0.29 0.34 1.17 1.76 0.57 0.63\n",
            " 1.71 0.31 0.49 1.31 1.34 0.5 1.75 1.36 0.36 1.42 0.6 1.74 1.46 1.63 0.28\n",
            " 1.47 1.25 1.96 1.39 0.48 0.56 1.55 0.65 1.69 1.64 1.65 1.67 1.77 1.82\n",
            " 0.19 1.49 1.35 1.5 1.97 1.94 1.58 0.58 1.61 0.54 1.7 0.38 0.41 0.25 2.03\n",
            " 1.93 0.944 1.8 2.12 2.01 1.54 1.88 0.46 1.84 1.37 0.47 2.32 1.78 1.89\n",
            " 0.44 0.17 1.6 1.87 0.37 0.45 1.95 0.51 2.33 0.42 1.81 2.15 2.02 2.16 2]\n",
            "\n",
            "Unique values in 'FTI measured':\n",
            "['f' 't']\n",
            "\n",
            "Unique values in 'FTI':\n",
            "['?' 47 85 84 96 105 95 106 176 129 100 69 39 91 90 93 66 121 92 173 117\n",
            " 31 113 67 101 126 123 149 68 86 132 131 116 97 124 136 142 104 7.5 107 73\n",
            " 110 130 88 128 122 102 134 163 63 354 81 109 114 133 170 99 111 108 161\n",
            " 78 148 98 135 80 127 213 119 65 89 143 316 155 172 150 103 120 258 5 272\n",
            " 263 166 138 52 164 337 94 118 182 41 70 144 10 4 13 87 140 74 152 77 3 82\n",
            " 145 64 79 147 54 83 634 650 12 61 11 115 35 17 165 167 153 44 3.4 55 71\n",
            " 253 75 2.5 197 24 156 237 203 112 141 3.5 190 37 45 193 57 76 160 6 200\n",
            " 485 49 158 137 428 450 174 189 202 159 196 154 139 34 222 184 178 146 125\n",
            " 21 157 51 839 332 151 305 299 266 32 53 370 22 168 60 187 171 220 169 232\n",
            " 254 345 194 211 217 550 23 257 188 192 179 218 208 6.6 240 43 259 265 9\n",
            " 212 347 216 29 186 162 256 177 20 33 308 482 16 180 59 264 881 204 15 1.4\n",
            " 271 58 334 214 228 205 72 183 612 445 244 175 2.8 283 62 7.6 5.4 199 209\n",
            " 227 26 48 221 28 195 395 206 46 198 215 8.5 56 14 223 8.9 8.4 18 9.099999\n",
            " 50 207 185 291 235 36 224 19 7 312 247 40 274 210 242 251 27 181 2 249 42\n",
            " 349 191 280 281 201 245 362 219 239 273 356 2.4 8.299999 236 8.7 262 3.84\n",
            " 231 369 3.1 378 546 268 25 298 241 642 238 233 325 255 4.5 519 4.15 297\n",
            " 4.85 321 226 290 243 5.5 288 38 329]\n",
            "\n",
            "Unique values in 'TBG measured':\n",
            "['f' 't']\n",
            "\n",
            "Unique values in 'TBG':\n",
            "['?' 11 26 36 21 28 23 18 33 20 19 30 29 24 9.299999 25 53 27 50 32 31 41\n",
            " 43 12 39 108 0.1 8.4 16 17 3.1 22 35 49 100 37 38 63 8.799999 200 65 15\n",
            " 14 190 9.599999 69 34 44 72 135 0.15 90 13 46 54 51 4.9 106 45 47 110 114\n",
            " 86 96 48 116 10]\n",
            "\n",
            "Unique values in 'referral source':\n",
            "['other' 'SVI' 'SVHC' 'STMW' 'SVHD' 'WEST']\n",
            "\n",
            "Unique values in 'Condition':\n",
            "['NO CONDITION' 'S' 'F' 'AK' 'R' 'I' 'M' 'N' 'G' 'K' 'A' 'KJ' 'L' 'MK' 'Q'\n",
            " 'J' 'C|I' 'O' 'LJ' 'H|K' 'D' 'GK' 'MI' 'P' 'FK' 'B' 'GI' 'C' 'GKJ' 'OI'\n",
            " 'D|R' 'E']\n"
          ]
        }
      ]
    },
    {
      "cell_type": "code",
      "source": [
        "numeric_columns = thyroid_data.select_dtypes(include=[np.number]).columns\n",
        "data_range = thyroid_data[numeric_columns].agg([np.min, np.max])\n",
        "print(\"\\nData Range for Numeric Variables:\\n\", data_range)\n"
      ],
      "metadata": {
        "colab": {
          "base_uri": "https://localhost:8080/"
        },
        "id": "Y2tHhCwd_oos",
        "outputId": "864c16e4-e6d5-400e-bd5c-239e370cf15c"
      },
      "execution_count": null,
      "outputs": [
        {
          "output_type": "stream",
          "name": "stdout",
          "text": [
            "\n",
            "Data Range for Numeric Variables:\n",
            "      Record ID    age\n",
            "min  840801013      1\n",
            "max  870119035  65526\n"
          ]
        },
        {
          "output_type": "stream",
          "name": "stderr",
          "text": [
            "<ipython-input-15-93b2c980f769>:2: FutureWarning: The provided callable <function min at 0x7aa551917520> is currently using Series.min. In a future version of pandas, the provided callable will be used directly. To keep current behavior pass the string \"min\" instead.\n",
            "  data_range = thyroid_data[numeric_columns].agg([np.min, np.max])\n",
            "<ipython-input-15-93b2c980f769>:2: FutureWarning: The provided callable <function max at 0x7aa551917400> is currently using Series.max. In a future version of pandas, the provided callable will be used directly. To keep current behavior pass the string \"max\" instead.\n",
            "  data_range = thyroid_data[numeric_columns].agg([np.min, np.max])\n"
          ]
        }
      ]
    },
    {
      "cell_type": "code",
      "source": [
        "# Study the presence of missing values in each attribute\n",
        "missing_values = thyroid_data.isnull().sum()\n",
        "print(\"\\nMissing Values in Each Attribute:\\n\", missing_values)\n"
      ],
      "metadata": {
        "colab": {
          "base_uri": "https://localhost:8080/"
        },
        "id": "x_c5Iy-gAGqS",
        "outputId": "1709860f-206d-4973-8d32-5e76d1ac6ffc"
      },
      "execution_count": null,
      "outputs": [
        {
          "output_type": "stream",
          "name": "stdout",
          "text": [
            "\n",
            "Missing Values in Each Attribute:\n",
            " Record ID       0\n",
            "age             0\n",
            "sex_?           0\n",
            "sex_F           0\n",
            "sex_M           0\n",
            "               ..\n",
            "Condition_OI    0\n",
            "Condition_P     0\n",
            "Condition_Q     0\n",
            "Condition_R     0\n",
            "Condition_S     0\n",
            "Length: 1395, dtype: int64\n"
          ]
        }
      ]
    },
    {
      "cell_type": "code",
      "source": [
        "# Study the presence of outliers in data using z-score\n",
        "outliers = thyroid_data[numeric_columns].apply(lambda x: np.abs(zscore(x)) > 3).sum()\n",
        "print(\"\\nPresence of Outliers in Each Numeric Attribute:\\n\", outliers)"
      ],
      "metadata": {
        "colab": {
          "base_uri": "https://localhost:8080/"
        },
        "id": "t1i5ifNoAL6t",
        "outputId": "fac60a38-19d1-4cbf-f919-cf010bd56417"
      },
      "execution_count": null,
      "outputs": [
        {
          "output_type": "stream",
          "name": "stdout",
          "text": [
            "\n",
            "Presence of Outliers in Each Numeric Attribute:\n",
            " Record ID    0\n",
            "age          3\n",
            "dtype: int64\n"
          ]
        }
      ]
    },
    {
      "cell_type": "code",
      "source": [
        "# For numeric variables, calculate the mean and variance (or standard deviation)\n",
        "numeric_stats = thyroid_data[numeric_columns].agg([np.mean, np.var, np.std])\n",
        "print(\"\\nMean, Variance, and Standard Deviation for Numeric Variables:\\n\", numeric_stats)\n",
        "\n",
        "# Plotting boxplots to visually inspect outliers\n",
        "plt.figure(figsize=(15, 10))\n",
        "for i, column in enumerate(numeric_columns):\n",
        "    plt.subplot(len(numeric_columns)//2 + 1, 2, i + 1)\n",
        "    sns.boxplot(x=thyroid_data[column])\n",
        "    plt.title(f'Boxplot of {column}')\n",
        "plt.tight_layout()\n",
        "plt.show()"
      ],
      "metadata": {
        "colab": {
          "base_uri": "https://localhost:8080/",
          "height": 634
        },
        "id": "AckHTIDmAScN",
        "outputId": "d923f85a-404a-4ec8-abd1-9af52ee5ce8c"
      },
      "execution_count": null,
      "outputs": [
        {
          "output_type": "stream",
          "name": "stderr",
          "text": [
            "<ipython-input-18-13c58be47faf>:2: FutureWarning: The provided callable <function mean at 0x7aa551917d00> is currently using Series.mean. In a future version of pandas, the provided callable will be used directly. To keep current behavior pass the string \"mean\" instead.\n",
            "  numeric_stats = thyroid_data[numeric_columns].agg([np.mean, np.var, np.std])\n",
            "<ipython-input-18-13c58be47faf>:2: FutureWarning: The provided callable <function var at 0x7aa551917f40> is currently using Series.var. In a future version of pandas, the provided callable will be used directly. To keep current behavior pass the string \"var\" instead.\n",
            "  numeric_stats = thyroid_data[numeric_columns].agg([np.mean, np.var, np.std])\n",
            "<ipython-input-18-13c58be47faf>:2: FutureWarning: The provided callable <function std at 0x7aa551917e20> is currently using Series.std. In a future version of pandas, the provided callable will be used directly. To keep current behavior pass the string \"std\" instead.\n",
            "  numeric_stats = thyroid_data[numeric_columns].agg([np.mean, np.var, np.std])\n"
          ]
        },
        {
          "output_type": "stream",
          "name": "stdout",
          "text": [
            "\n",
            "Mean, Variance, and Standard Deviation for Numeric Variables:\n",
            "          Record ID           age\n",
            "mean  8.529473e+08  7.355582e+01\n",
            "var   5.748625e+13  1.401801e+06\n",
            "std   7.581969e+06  1.183977e+03\n"
          ]
        },
        {
          "output_type": "display_data",
          "data": {
            "text/plain": [
              "<Figure size 1500x1000 with 2 Axes>"
            ],
            "image/png": "[encoded data removed]"
          },
          "metadata": {}
        }
      ]
    },
    {
      "cell_type": "markdown",
      "source": [
        "Q6)"
      ],
      "metadata": {
        "id": "PsPU1FuQBA1J"
      }
    },
    {
      "cell_type": "code",
      "source": [
        "import pandas as pd\n",
        "import numpy as np\n",
        "from scipy.stats import zscore\n",
        "\n",
        "# Load the Excel file\n",
        "file_path = 'Lab Session Data.xlsx'\n",
        "\n",
        "# Load the 'thyroid0387_UCI' sheet\n",
        "thyroid_data = pd.read_excel(file_path, sheet_name='thyroid0387_UCI')\n",
        "\n",
        "# Convert 'Date' column to datetime if present (not required for this dataset)\n",
        "# thyroid_data['Date'] = pd.to_datetime(thyroid_data['Date'])\n",
        "\n",
        "# Identify the datatype (nominal, ordinal, etc.) for each attribute\n",
        "data_types = thyroid_data.dtypes\n",
        "\n",
        "# Identify numeric and categorical columns\n",
        "numeric_columns = thyroid_data.select_dtypes(include=[np.number]).columns\n",
        "categorical_columns = thyroid_data.select_dtypes(include=['object']).columns\n",
        "\n",
        "# Identify columns with missing values\n",
        "missing_values = thyroid_data.isnull().sum()\n",
        "print(\"\\nMissing Values in Each Attribute:\\n\", missing_values)\n",
        "\n",
        "# Handle categorical variables with Mode\n",
        "for column in categorical_columns:\n",
        "    mode_value = thyroid_data[column].mode()[0]\n",
        "    thyroid_data[column].fillna(mode_value, inplace=True)\n",
        "\n",
        "# Identify outliers in numeric data using z-score\n",
        "outliers = thyroid_data[numeric_columns].apply(lambda x: np.abs(zscore(x)) > 3)\n",
        "\n",
        "# Handle numeric variables: use mean for columns without outliers, median for columns with outliers\n",
        "for column in numeric_columns:\n",
        "    if outliers[column].any():\n",
        "        median_value = thyroid_data[column].median()\n",
        "        thyroid_data[column].fillna(median_value, inplace=True)\n",
        "    else:\n",
        "        mean_value = thyroid_data[column].mean()\n",
        "        thyroid_data[column].fillna(mean_value, inplace=True)\n",
        "\n",
        "# Verify if all missing values are handled\n",
        "missing_values_after = thyroid_data.isnull().sum()\n",
        "print(\"\\nMissing Values After Imputation:\\n\", missing_values_after)\n",
        "\n",
        "# Display the imputed DataFrame\n",
        "print(\"\\nData After Imputation:\")\n",
        "print(thyroid_data.head())\n"
      ],
      "metadata": {
        "colab": {
          "base_uri": "https://localhost:8080/"
        },
        "id": "BwAE0rXUAWta",
        "outputId": "4a4f34e5-fab5-42cd-f1bd-1b4f65462835"
      },
      "execution_count": 14,
      "outputs": [
        {
          "output_type": "stream",
          "name": "stdout",
          "text": [
            "\n",
            "Missing Values in Each Attribute:\n",
            " Record ID                    0\n",
            "age                          0\n",
            "sex                          0\n",
            "on thyroxine                 0\n",
            "query on thyroxine           0\n",
            "on antithyroid medication    0\n",
            "sick                         0\n",
            "pregnant                     0\n",
            "thyroid surgery              0\n",
            "I131 treatment               0\n",
            "query hypothyroid            0\n",
            "query hyperthyroid           0\n",
            "lithium                      0\n",
            "goitre                       0\n",
            "tumor                        0\n",
            "hypopituitary                0\n",
            "psych                        0\n",
            "TSH measured                 0\n",
            "TSH                          0\n",
            "T3 measured                  0\n",
            "T3                           0\n",
            "TT4 measured                 0\n",
            "TT4                          0\n",
            "T4U measured                 0\n",
            "T4U                          0\n",
            "FTI measured                 0\n",
            "FTI                          0\n",
            "TBG measured                 0\n",
            "TBG                          0\n",
            "referral source              0\n",
            "Condition                    0\n",
            "dtype: int64\n",
            "\n",
            "Missing Values After Imputation:\n",
            " Record ID                    0\n",
            "age                          0\n",
            "sex                          0\n",
            "on thyroxine                 0\n",
            "query on thyroxine           0\n",
            "on antithyroid medication    0\n",
            "sick                         0\n",
            "pregnant                     0\n",
            "thyroid surgery              0\n",
            "I131 treatment               0\n",
            "query hypothyroid            0\n",
            "query hyperthyroid           0\n",
            "lithium                      0\n",
            "goitre                       0\n",
            "tumor                        0\n",
            "hypopituitary                0\n",
            "psych                        0\n",
            "TSH measured                 0\n",
            "TSH                          0\n",
            "T3 measured                  0\n",
            "T3                           0\n",
            "TT4 measured                 0\n",
            "TT4                          0\n",
            "T4U measured                 0\n",
            "T4U                          0\n",
            "FTI measured                 0\n",
            "FTI                          0\n",
            "TBG measured                 0\n",
            "TBG                          0\n",
            "referral source              0\n",
            "Condition                    0\n",
            "dtype: int64\n",
            "\n",
            "Data After Imputation:\n",
            "   Record ID  age sex on thyroxine query on thyroxine  \\\n",
            "0  840801013   29   F            f                  f   \n",
            "1  840801014   29   F            f                  f   \n",
            "2  840801042   41   F            f                  f   \n",
            "3  840803046   36   F            f                  f   \n",
            "4  840803047   32   F            f                  f   \n",
            "\n",
            "  on antithyroid medication sick pregnant thyroid surgery I131 treatment  ...  \\\n",
            "0                         f    f        f               f              f  ...   \n",
            "1                         f    f        f               f              f  ...   \n",
            "2                         f    f        f               f              f  ...   \n",
            "3                         f    f        f               f              f  ...   \n",
            "4                         f    f        f               f              f  ...   \n",
            "\n",
            "  TT4 measured  TT4 T4U measured T4U FTI measured FTI TBG measured TBG  \\\n",
            "0            f    ?            f   ?            f   ?            f   ?   \n",
            "1            t  128            f   ?            f   ?            f   ?   \n",
            "2            f    ?            f   ?            f   ?            t  11   \n",
            "3            f    ?            f   ?            f   ?            t  26   \n",
            "4            f    ?            f   ?            f   ?            t  36   \n",
            "\n",
            "  referral source     Condition  \n",
            "0           other  NO CONDITION  \n",
            "1           other  NO CONDITION  \n",
            "2           other  NO CONDITION  \n",
            "3           other  NO CONDITION  \n",
            "4           other             S  \n",
            "\n",
            "[5 rows x 31 columns]\n"
          ]
        }
      ]
    },
    {
      "cell_type": "markdown",
      "source": [
        "Q7)"
      ],
      "metadata": {
        "id": "8r4nVsMzBQBK"
      }
    },
    {
      "cell_type": "code",
      "source": [
        "import pandas as pd\n",
        "import numpy as np\n",
        "from sklearn.preprocessing import MinMaxScaler, StandardScaler\n",
        "\n",
        "# Load the Excel file\n",
        "file_path = 'Lab Session Data.xlsx'\n",
        "\n",
        "# Load the 'thyroid0387_UCI' sheet\n",
        "thyroid_data = pd.read_excel(file_path, sheet_name='thyroid0387_UCI')\n",
        "\n",
        "# Identify numeric and categorical columns\n",
        "numeric_columns = thyroid_data.select_dtypes(include=[np.number]).columns\n",
        "categorical_columns = thyroid_data.select_dtypes(include=['object']).columns\n",
        "\n"
      ],
      "metadata": {
        "id": "e7QwScUWAqbW"
      },
      "execution_count": 15,
      "outputs": []
    },
    {
      "cell_type": "code",
      "source": [
        "def has_outliers(data):\n",
        "    z_scores = np.abs(zscore(data))\n",
        "    return (z_scores > 3).any()\n"
      ],
      "metadata": {
        "id": "vuIzQRQ8A1pP"
      },
      "execution_count": 16,
      "outputs": []
    },
    {
      "cell_type": "code",
      "source": [
        "columns_to_normalize = []\n",
        "for column in numeric_columns:\n",
        "    if has_outliers(thyroid_data[column]):\n",
        "        print(f\"Column {column} has outliers and will be standardized.\")\n",
        "    columns_to_normalize.append(column)\n",
        "\n",
        "# Apply Min-Max Scaling\n",
        "scaler = MinMaxScaler()\n",
        "thyroid_data[columns_to_normalize] = scaler.fit_transform(thyroid_data[columns_to_normalize])\n",
        "\n",
        "# Apply Standardization for columns with outliers\n",
        "# Note: Uncomment the lines below if standardization is required\n",
        "# for column in columns_to_normalize:\n",
        "#     if has_outliers(thyroid_data[column]):\n",
        "#         std_scaler = StandardScaler()\n",
        "#         thyroid_data[column] = std_scaler.fit_transform(thyroid_data[[column]])\n",
        "\n",
        "# Display the normalized DataFrame\n",
        "print(\"\\nNormalized Data:\")\n",
        "print(thyroid_data.head())"
      ],
      "metadata": {
        "id": "KivXVL2uBtaP",
        "outputId": "b4496db5-d2fe-44fe-fc7d-5355d4be1a60",
        "colab": {
          "base_uri": "https://localhost:8080/"
        }
      },
      "execution_count": 17,
      "outputs": [
        {
          "output_type": "stream",
          "name": "stdout",
          "text": [
            "Column age has outliers and will be standardized.\n",
            "\n",
            "Normalized Data:\n",
            "      Record ID       age sex on thyroxine query on thyroxine  \\\n",
            "0  0.000000e+00  0.000427   F            f                  f   \n",
            "1  3.410871e-08  0.000427   F            f                  f   \n",
            "2  9.891527e-07  0.000610   F            f                  f   \n",
            "3  6.934301e-05  0.000534   F            f                  f   \n",
            "4  6.937712e-05  0.000473   F            f                  f   \n",
            "\n",
            "  on antithyroid medication sick pregnant thyroid surgery I131 treatment  ...  \\\n",
            "0                         f    f        f               f              f  ...   \n",
            "1                         f    f        f               f              f  ...   \n",
            "2                         f    f        f               f              f  ...   \n",
            "3                         f    f        f               f              f  ...   \n",
            "4                         f    f        f               f              f  ...   \n",
            "\n",
            "  TT4 measured  TT4 T4U measured T4U FTI measured FTI TBG measured TBG  \\\n",
            "0            f    ?            f   ?            f   ?            f   ?   \n",
            "1            t  128            f   ?            f   ?            f   ?   \n",
            "2            f    ?            f   ?            f   ?            t  11   \n",
            "3            f    ?            f   ?            f   ?            t  26   \n",
            "4            f    ?            f   ?            f   ?            t  36   \n",
            "\n",
            "  referral source     Condition  \n",
            "0           other  NO CONDITION  \n",
            "1           other  NO CONDITION  \n",
            "2           other  NO CONDITION  \n",
            "3           other  NO CONDITION  \n",
            "4           other             S  \n",
            "\n",
            "[5 rows x 31 columns]\n"
          ]
        }
      ]
    },
    {
      "cell_type": "markdown",
      "source": [
        "Q7)"
      ],
      "metadata": {
        "id": "Z8t8xJmNNRK2"
      }
    },
    {
      "cell_type": "code",
      "source": [
        "import pandas as pd\n",
        "import numpy as np\n",
        "\n",
        "# Load the Excel file\n",
        "file_path = 'Lab Session Data.xlsx'\n",
        "\n",
        "# Load the 'thyroid0387_UCI' sheet\n",
        "thyroid_data = pd.read_excel(file_path, sheet_name='thyroid0387_UCI')\n",
        "\n",
        "# Identify binary columns (attributes with only two unique values: 0 and 1)\n",
        "binary_columns = []\n",
        "for col in thyroid_data.columns:\n",
        "    unique_values = thyroid_data[col].dropna().unique()\n",
        "    if len(unique_values) == 2 and set(unique_values) <= {0, 1}:\n",
        "        binary_columns.append(col)\n",
        "\n",
        "# Extract the first two observation vectors for binary attributes\n",
        "vector1 = thyroid_data[binary_columns].iloc[0].values\n",
        "vector2 = thyroid_data[binary_columns].iloc[1].values\n",
        "f11 = np.sum((vector1 == 1) & (vector2 == 1))\n",
        "f00 = np.sum((vector1 == 0) & (vector2 == 0))\n",
        "f01 = np.sum((vector1 == 0) & (vector2 == 1))\n",
        "f10 = np.sum((vector1 == 1) & (vector2 == 0))\n",
        "\n",
        "# Calculate f11, f00, f01, f10\n",
        "f11 = np.sum((vector1 == 1) & (vector2 == 1))\n",
        "f00 = np.sum((vector1 == 0) & (vector2 == 0))\n",
        "f01 = np.sum((vector1 == 0) & (vector2 == 1))\n",
        "f10 = np.sum((vector1 == 1) & (vector2 == 0))\n",
        "\n",
        "print(f\"f11: {f11}, f00: {f00}, f01: {f01}, f10: {f10}\")\n",
        "\n",
        "# Handle cases where denominator might be zero\n",
        "denominator_jc = f01 + f10 + f11\n",
        "denominator_smc = f00 + f01 + f10 + f11\n",
        "\n",
        "jc = f11 / denominator_jc if denominator_jc != 0 else 0\n",
        "smc = (f11 + f00) / denominator_smc if denominator_smc != 0 else 0\n",
        "\n",
        "# Print the results\n",
        "print(f\"Jaccard Coefficient (JC): {jc}\")\n",
        "print(f\"Simple Matching Coefficient (SMC): {smc}\")"
      ],
      "metadata": {
        "id": "AUSC-QePBwZR",
        "colab": {
          "base_uri": "https://localhost:8080/"
        },
        "outputId": "a994eec7-5b9f-428c-a78e-e467bbab322f"
      },
      "execution_count": 19,
      "outputs": [
        {
          "output_type": "stream",
          "name": "stdout",
          "text": [
            "f11: 0, f00: 0, f01: 0, f10: 0\n",
            "Jaccard Coefficient (JC): 0\n",
            "Simple Matching Coefficient (SMC): 0\n"
          ]
        }
      ]
    },
    {
      "cell_type": "code",
      "source": [
        "import pandas as pd\n",
        "import numpy as np\n",
        "\n",
        "# Load the Excel file\n",
        "file_path = 'Lab Session Data.xlsx'\n",
        "\n",
        "# Load the 'thyroid0387_UCI' sheet\n",
        "thyroid_data = pd.read_excel(file_path, sheet_name='thyroid0387_UCI')\n",
        "\n",
        "# Convert all columns to numeric, coerce errors to NaN\n",
        "thyroid_data = thyroid_data.apply(pd.to_numeric, errors='coerce')\n",
        "\n",
        "# Fill NaN values with 0\n",
        "thyroid_data = thyroid_data.fillna(0)\n",
        "\n",
        "# Extract the complete vectors for the first two observations\n",
        "vector1 = thyroid_data.iloc[0].values\n",
        "vector2 = thyroid_data.iloc[1].values\n",
        "\n",
        "# Calculate the dot product of the vectors\n",
        "dot_product = np.dot(vector1, vector2)\n",
        "\n",
        "# Calculate the norms (lengths) of the vectors\n",
        "norm_vector1 = np.linalg.norm(vector1)\n",
        "norm_vector2 = np.linalg.norm(vector2)\n",
        "\n",
        "# Calculate the Cosine Similarity\n",
        "cosine_similarity = dot_product / (norm_vector1 * norm_vector2)\n",
        "\n",
        "# Print the results\n",
        "print(f\"Cosine Similarity: {cosine_similarity}\")\n"
      ],
      "metadata": {
        "colab": {
          "base_uri": "https://localhost:8080/"
        },
        "id": "gFvsHy8xNvOy",
        "outputId": "24d22716-aff2-4b0d-a7dd-1b6f532ae791"
      },
      "execution_count": 21,
      "outputs": [
        {
          "output_type": "stream",
          "name": "stdout",
          "text": [
            "Cosine Similarity: 0.9999999999999885\n"
          ]
        }
      ]
    },
    {
      "cell_type": "markdown",
      "source": [
        "Q10)"
      ],
      "metadata": {
        "id": "5Zwbhs92XMWP"
      }
    },
    {
      "cell_type": "code",
      "source": [
        "import pandas as pd\n",
        "import numpy as np\n",
        "import seaborn as sns\n",
        "import matplotlib.pyplot as plt\n",
        "\n",
        "# Load the Excel file\n",
        "file_path = 'Lab Session Data.xlsx'\n",
        "\n",
        "# Load the 'thyroid0387_UCI' sheet\n",
        "thyroid_data = pd.read_excel(file_path, sheet_name='thyroid0387_UCI')\n",
        "\n",
        "# Convert all columns to numeric, coerce errors to NaN\n",
        "thyroid_data = thyroid_data.apply(pd.to_numeric, errors='coerce')\n",
        "\n",
        "# Fill NaN values with 0\n",
        "thyroid_data = thyroid_data.fillna(0)\n",
        "\n",
        "# Extract the first 20 observation vectors\n",
        "data = thyroid_data.iloc[:20].values"
      ],
      "metadata": {
        "id": "KEQSZAi2XPh3"
      },
      "execution_count": 22,
      "outputs": []
    },
    {
      "cell_type": "code",
      "source": [
        "# Function to calculate JC\n",
        "def jaccard_similarity(v1, v2):\n",
        "    f11 = np.sum((v1 == 1) & (v2 == 1))\n",
        "    f01 = np.sum((v1 == 0) & (v2 == 1))\n",
        "    f10 = np.sum((v1 == 1) & (v2 == 0))\n",
        "    denominator = f01 + f10 + f11\n",
        "    return f11 / denominator if denominator != 0 else 0"
      ],
      "metadata": {
        "id": "jTGQGnaOXn5P"
      },
      "execution_count": 23,
      "outputs": []
    },
    {
      "cell_type": "code",
      "source": [
        "# Function to calculate SMC\n",
        "def simple_matching_coefficient(v1, v2):\n",
        "    f11 = np.sum((v1 == 1) & (v2 == 1))\n",
        "    f00 = np.sum((v1 == 0) & (v2 == 0))\n",
        "    f01 = np.sum((v1 == 0) & (v2 == 1))\n",
        "    f10 = np.sum((v1 == 1) & (v2 == 0))\n",
        "    denominator = f00 + f01 + f10 + f11\n",
        "    return (f11 + f00) / denominator if denominator != 0 else 0"
      ],
      "metadata": {
        "id": "VjpmJPzhXoYl"
      },
      "execution_count": 24,
      "outputs": []
    },
    {
      "cell_type": "code",
      "source": [
        "# Function to calculate Cosine Similarity\n",
        "def cosine_similarity(v1, v2):\n",
        "    dot_product = np.dot(v1, v2)\n",
        "    norm_v1 = np.linalg.norm(v1)\n",
        "    norm_v2 = np.linalg.norm(v2)\n",
        "    return dot_product / (norm_v1 * norm_v2)\n"
      ],
      "metadata": {
        "id": "uUL9xLa3Xvds"
      },
      "execution_count": 25,
      "outputs": []
    },
    {
      "cell_type": "code",
      "source": [
        "# Calculate JC, SMC, and COS matrices\n",
        "jc_matrix = np.zeros((20, 20))\n",
        "smc_matrix = np.zeros((20, 20))\n",
        "cos_matrix = np.zeros((20, 20))\n",
        "\n",
        "for i in range(20):\n",
        "    for j in range(20):\n",
        "        if i != j:\n",
        "            jc_matrix[i, j] = jaccard_similarity(data[i], data[j])\n",
        "            smc_matrix[i, j] = simple_matching_coefficient(data[i], data[j])\n",
        "            cos_matrix[i, j] = cosine_similarity(data[i], data[j])"
      ],
      "metadata": {
        "id": "3V972Q6gXy5Q"
      },
      "execution_count": 26,
      "outputs": []
    },
    {
      "cell_type": "code",
      "source": [
        "# Create heatmaps\n",
        "plt.figure(figsize=(18, 6))\n",
        "\n",
        "plt.subplot(1, 3, 1)\n",
        "sns.heatmap(jc_matrix, annot=True, cmap=\"coolwarm\")\n",
        "plt.title('Jaccard Coefficient')\n",
        "\n",
        "plt.subplot(1, 3, 2)\n",
        "sns.heatmap(smc_matrix, annot=True, cmap=\"coolwarm\")\n",
        "plt.title('Simple Matching Coefficient')\n",
        "\n",
        "plt.subplot(1, 3, 3)\n",
        "sns.heatmap(cos_matrix, annot=True, cmap=\"coolwarm\")\n",
        "plt.title('Cosine Similarity')\n",
        "\n",
        "plt.tight_layout()\n",
        "plt.show()"
      ],
      "metadata": {
        "colab": {
          "base_uri": "https://localhost:8080/",
          "height": 373
        },
        "id": "T55bTBIYX3Yf",
        "outputId": "27c89a96-d81f-42ac-aa86-d7b533698599"
      },
      "execution_count": 27,
      "outputs": [
        {
          "output_type": "display_data",
          "data": {
            "text/plain": [
              "<Figure size 1800x600 with 6 Axes>"
            ],
            "image/png": "[encoded data removed]"
          },
          "metadata": {}
        }
      ]
    },
    {
      "cell_type": "code",
      "source": [],
      "metadata": {
        "id": "0puYoVRtX5w6"
      },
      "execution_count": null,
      "outputs": []
    }
  ]
}